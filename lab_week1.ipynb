{
  "cells": [
    {
      "cell_type": "markdown",
      "metadata": {
        "id": "YqRSnO68lKJR"
      },
      "source": [
        "# COMP3132 - Lab Week 1\n",
        "\n",
        "# Building an LLM-Powered Chatbot: A Hands-On Guide in Google Colab"
      ]
    },
    {
      "cell_type": "code",
      "source": [
        "# Name: Drasti Parikh\n",
        "# Student Id: 101419828"
      ],
      "metadata": {
        "id": "jO5y_vLvOexA"
      },
      "execution_count": null,
      "outputs": []
    },
    {
      "cell_type": "markdown",
      "metadata": {
        "id": "ILpJ2QAOWH0N"
      },
      "source": [
        "## Google Colab Configuration\n",
        "\n",
        "### Some of our labs this semester will be painfully slow if without a GPU. The easies way to get access to a GPU accelerated Jupyter notebook is to enable the `T4 GPU runtime` on Google Colab:\n",
        "\n",
        "### 1. Navigate to `Runtime`.\n",
        "### 2. Select `Change runtime type`.\n",
        "### 3. Choose `Hardware accelerator`.\n",
        "### 4. Select `T4 GPU`.\n",
        "\n",
        "### **Note:** This notebook can be run on `CPU` without any noticeable difference in performance."
      ]
    },
    {
      "cell_type": "code",
      "execution_count": null,
      "metadata": {
        "id": "wxpgrcGYZJHG"
      },
      "outputs": [],
      "source": [
        "from IPython.display import Image, display"
      ]
    },
    {
      "cell_type": "code",
      "execution_count": null,
      "metadata": {
        "colab": {
          "base_uri": "https://localhost:8080/"
        },
        "collapsed": true,
        "id": "0Gedb1EAT3Pd",
        "outputId": "afa0d659-1dcb-42a6-da33-328231589624"
      },
      "outputs": [
        {
          "output_type": "stream",
          "name": "stdout",
          "text": [
            "Collecting python-dotenv\n",
            "  Downloading python_dotenv-1.0.1-py3-none-any.whl.metadata (23 kB)\n",
            "Downloading python_dotenv-1.0.1-py3-none-any.whl (19 kB)\n",
            "Installing collected packages: python-dotenv\n",
            "Successfully installed python-dotenv-1.0.1\n",
            "Collecting jupyter_bokeh\n",
            "  Downloading jupyter_bokeh-4.0.5-py3-none-any.whl.metadata (7.1 kB)\n",
            "Requirement already satisfied: bokeh==3.* in /usr/local/lib/python3.10/dist-packages (from jupyter_bokeh) (3.6.2)\n",
            "Collecting ipywidgets==8.* (from jupyter_bokeh)\n",
            "  Downloading ipywidgets-8.1.5-py3-none-any.whl.metadata (2.3 kB)\n",
            "Requirement already satisfied: Jinja2>=2.9 in /usr/local/lib/python3.10/dist-packages (from bokeh==3.*->jupyter_bokeh) (3.1.5)\n",
            "Requirement already satisfied: contourpy>=1.2 in /usr/local/lib/python3.10/dist-packages (from bokeh==3.*->jupyter_bokeh) (1.3.1)\n",
            "Requirement already satisfied: numpy>=1.16 in /usr/local/lib/python3.10/dist-packages (from bokeh==3.*->jupyter_bokeh) (1.26.4)\n",
            "Requirement already satisfied: packaging>=16.8 in /usr/local/lib/python3.10/dist-packages (from bokeh==3.*->jupyter_bokeh) (24.2)\n",
            "Requirement already satisfied: pandas>=1.2 in /usr/local/lib/python3.10/dist-packages (from bokeh==3.*->jupyter_bokeh) (2.2.2)\n",
            "Requirement already satisfied: pillow>=7.1.0 in /usr/local/lib/python3.10/dist-packages (from bokeh==3.*->jupyter_bokeh) (11.1.0)\n",
            "Requirement already satisfied: PyYAML>=3.10 in /usr/local/lib/python3.10/dist-packages (from bokeh==3.*->jupyter_bokeh) (6.0.2)\n",
            "Requirement already satisfied: tornado>=6.2 in /usr/local/lib/python3.10/dist-packages (from bokeh==3.*->jupyter_bokeh) (6.3.3)\n",
            "Requirement already satisfied: xyzservices>=2021.09.1 in /usr/local/lib/python3.10/dist-packages (from bokeh==3.*->jupyter_bokeh) (2024.9.0)\n",
            "Collecting comm>=0.1.3 (from ipywidgets==8.*->jupyter_bokeh)\n",
            "  Downloading comm-0.2.2-py3-none-any.whl.metadata (3.7 kB)\n",
            "Requirement already satisfied: ipython>=6.1.0 in /usr/local/lib/python3.10/dist-packages (from ipywidgets==8.*->jupyter_bokeh) (7.34.0)\n",
            "Requirement already satisfied: traitlets>=4.3.1 in /usr/local/lib/python3.10/dist-packages (from ipywidgets==8.*->jupyter_bokeh) (5.7.1)\n",
            "Collecting widgetsnbextension~=4.0.12 (from ipywidgets==8.*->jupyter_bokeh)\n",
            "  Downloading widgetsnbextension-4.0.13-py3-none-any.whl.metadata (1.6 kB)\n",
            "Requirement already satisfied: jupyterlab-widgets~=3.0.12 in /usr/local/lib/python3.10/dist-packages (from ipywidgets==8.*->jupyter_bokeh) (3.0.13)\n",
            "Requirement already satisfied: setuptools>=18.5 in /usr/local/lib/python3.10/dist-packages (from ipython>=6.1.0->ipywidgets==8.*->jupyter_bokeh) (75.1.0)\n",
            "Collecting jedi>=0.16 (from ipython>=6.1.0->ipywidgets==8.*->jupyter_bokeh)\n",
            "  Downloading jedi-0.19.2-py2.py3-none-any.whl.metadata (22 kB)\n",
            "Requirement already satisfied: decorator in /usr/local/lib/python3.10/dist-packages (from ipython>=6.1.0->ipywidgets==8.*->jupyter_bokeh) (4.4.2)\n",
            "Requirement already satisfied: pickleshare in /usr/local/lib/python3.10/dist-packages (from ipython>=6.1.0->ipywidgets==8.*->jupyter_bokeh) (0.7.5)\n",
            "Requirement already satisfied: prompt-toolkit!=3.0.0,!=3.0.1,<3.1.0,>=2.0.0 in /usr/local/lib/python3.10/dist-packages (from ipython>=6.1.0->ipywidgets==8.*->jupyter_bokeh) (3.0.48)\n",
            "Requirement already satisfied: pygments in /usr/local/lib/python3.10/dist-packages (from ipython>=6.1.0->ipywidgets==8.*->jupyter_bokeh) (2.18.0)\n",
            "Requirement already satisfied: backcall in /usr/local/lib/python3.10/dist-packages (from ipython>=6.1.0->ipywidgets==8.*->jupyter_bokeh) (0.2.0)\n",
            "Requirement already satisfied: matplotlib-inline in /usr/local/lib/python3.10/dist-packages (from ipython>=6.1.0->ipywidgets==8.*->jupyter_bokeh) (0.1.7)\n",
            "Requirement already satisfied: pexpect>4.3 in /usr/local/lib/python3.10/dist-packages (from ipython>=6.1.0->ipywidgets==8.*->jupyter_bokeh) (4.9.0)\n",
            "Requirement already satisfied: MarkupSafe>=2.0 in /usr/local/lib/python3.10/dist-packages (from Jinja2>=2.9->bokeh==3.*->jupyter_bokeh) (3.0.2)\n",
            "Requirement already satisfied: python-dateutil>=2.8.2 in /usr/local/lib/python3.10/dist-packages (from pandas>=1.2->bokeh==3.*->jupyter_bokeh) (2.8.2)\n",
            "Requirement already satisfied: pytz>=2020.1 in /usr/local/lib/python3.10/dist-packages (from pandas>=1.2->bokeh==3.*->jupyter_bokeh) (2024.2)\n",
            "Requirement already satisfied: tzdata>=2022.7 in /usr/local/lib/python3.10/dist-packages (from pandas>=1.2->bokeh==3.*->jupyter_bokeh) (2024.2)\n",
            "Requirement already satisfied: parso<0.9.0,>=0.8.4 in /usr/local/lib/python3.10/dist-packages (from jedi>=0.16->ipython>=6.1.0->ipywidgets==8.*->jupyter_bokeh) (0.8.4)\n",
            "Requirement already satisfied: ptyprocess>=0.5 in /usr/local/lib/python3.10/dist-packages (from pexpect>4.3->ipython>=6.1.0->ipywidgets==8.*->jupyter_bokeh) (0.7.0)\n",
            "Requirement already satisfied: wcwidth in /usr/local/lib/python3.10/dist-packages (from prompt-toolkit!=3.0.0,!=3.0.1,<3.1.0,>=2.0.0->ipython>=6.1.0->ipywidgets==8.*->jupyter_bokeh) (0.2.13)\n",
            "Requirement already satisfied: six>=1.5 in /usr/local/lib/python3.10/dist-packages (from python-dateutil>=2.8.2->pandas>=1.2->bokeh==3.*->jupyter_bokeh) (1.17.0)\n",
            "Downloading jupyter_bokeh-4.0.5-py3-none-any.whl (148 kB)\n",
            "\u001b[2K   \u001b[90m━━━━━━━━━━━━━━━━━━━━━━━━━━━━━━━━━━━━━━━━\u001b[0m \u001b[32m148.6/148.6 kB\u001b[0m \u001b[31m7.0 MB/s\u001b[0m eta \u001b[36m0:00:00\u001b[0m\n",
            "\u001b[?25hDownloading ipywidgets-8.1.5-py3-none-any.whl (139 kB)\n",
            "\u001b[2K   \u001b[90m━━━━━━━━━━━━━━━━━━━━━━━━━━━━━━━━━━━━━━━━\u001b[0m \u001b[32m139.8/139.8 kB\u001b[0m \u001b[31m12.5 MB/s\u001b[0m eta \u001b[36m0:00:00\u001b[0m\n",
            "\u001b[?25hDownloading comm-0.2.2-py3-none-any.whl (7.2 kB)\n",
            "Downloading widgetsnbextension-4.0.13-py3-none-any.whl (2.3 MB)\n",
            "\u001b[2K   \u001b[90m━━━━━━━━━━━━━━━━━━━━━━━━━━━━━━━━━━━━━━━━\u001b[0m \u001b[32m2.3/2.3 MB\u001b[0m \u001b[31m59.2 MB/s\u001b[0m eta \u001b[36m0:00:00\u001b[0m\n",
            "\u001b[?25hDownloading jedi-0.19.2-py2.py3-none-any.whl (1.6 MB)\n",
            "\u001b[2K   \u001b[90m━━━━━━━━━━━━━━━━━━━━━━━━━━━━━━━━━━━━━━━━\u001b[0m \u001b[32m1.6/1.6 MB\u001b[0m \u001b[31m65.8 MB/s\u001b[0m eta \u001b[36m0:00:00\u001b[0m\n",
            "\u001b[?25hInstalling collected packages: widgetsnbextension, jedi, comm, ipywidgets, jupyter_bokeh\n",
            "  Attempting uninstall: widgetsnbextension\n",
            "    Found existing installation: widgetsnbextension 3.6.10\n",
            "    Uninstalling widgetsnbextension-3.6.10:\n",
            "      Successfully uninstalled widgetsnbextension-3.6.10\n",
            "  Attempting uninstall: ipywidgets\n",
            "    Found existing installation: ipywidgets 7.7.1\n",
            "    Uninstalling ipywidgets-7.7.1:\n",
            "      Successfully uninstalled ipywidgets-7.7.1\n",
            "Successfully installed comm-0.2.2 ipywidgets-8.1.5 jedi-0.19.2 jupyter_bokeh-4.0.5 widgetsnbextension-4.0.13\n"
          ]
        }
      ],
      "source": [
        "!pip install python-dotenv\n",
        "!pip install jupyter_bokeh"
      ]
    },
    {
      "cell_type": "markdown",
      "metadata": {
        "id": "DVFndvYeTku2"
      },
      "source": [
        "# Online Chatbot"
      ]
    },
    {
      "cell_type": "markdown",
      "metadata": {
        "id": "KIizeeRWTku4"
      },
      "source": [
        "### Go to https://api.together.ai/playground/chat/meta-llama/Llama-2-7b-chat-hf to chat with the model online on `togerther.ai` website and play with the chatbot by changing the configurations and hyper-parameters"
      ]
    },
    {
      "cell_type": "markdown",
      "metadata": {
        "id": "6ylsoOI0SRYO"
      },
      "source": [
        "# A Brief Theory\n",
        "\n",
        "\n"
      ]
    },
    {
      "cell_type": "markdown",
      "metadata": {
        "id": "v-cwOAjzWH0P"
      },
      "source": [
        "## Training a Language Model"
      ]
    },
    {
      "cell_type": "code",
      "execution_count": null,
      "metadata": {
        "colab": {
          "base_uri": "https://localhost:8080/"
        },
        "id": "tXq3n80DWH0P",
        "outputId": "34205977-1254-46c0-ece9-588197ebb4dd"
      },
      "outputs": [
        {
          "output_type": "error",
          "ename": "FileNotFoundError",
          "evalue": "No such file or directory: './assets/LLM_train.png'",
          "traceback": [
            "\u001b[0;31m---------------------------------------------------------------------------\u001b[0m",
            "\u001b[0;31mTypeError\u001b[0m                                 Traceback (most recent call last)",
            "\u001b[0;32m/usr/local/lib/python3.10/dist-packages/IPython/core/display.py\u001b[0m in \u001b[0;36m_data_and_metadata\u001b[0;34m(self, always_both)\u001b[0m\n\u001b[1;32m   1299\u001b[0m         \u001b[0;32mtry\u001b[0m\u001b[0;34m:\u001b[0m\u001b[0;34m\u001b[0m\u001b[0;34m\u001b[0m\u001b[0m\n\u001b[0;32m-> 1300\u001b[0;31m             \u001b[0mb64_data\u001b[0m \u001b[0;34m=\u001b[0m \u001b[0mb2a_base64\u001b[0m\u001b[0;34m(\u001b[0m\u001b[0mself\u001b[0m\u001b[0;34m.\u001b[0m\u001b[0mdata\u001b[0m\u001b[0;34m)\u001b[0m\u001b[0;34m.\u001b[0m\u001b[0mdecode\u001b[0m\u001b[0;34m(\u001b[0m\u001b[0;34m'ascii'\u001b[0m\u001b[0;34m)\u001b[0m\u001b[0;34m\u001b[0m\u001b[0;34m\u001b[0m\u001b[0m\n\u001b[0m\u001b[1;32m   1301\u001b[0m         \u001b[0;32mexcept\u001b[0m \u001b[0mTypeError\u001b[0m\u001b[0;34m:\u001b[0m\u001b[0;34m\u001b[0m\u001b[0;34m\u001b[0m\u001b[0m\n",
            "\u001b[0;31mTypeError\u001b[0m: a bytes-like object is required, not 'str'",
            "\nDuring handling of the above exception, another exception occurred:\n",
            "\u001b[0;31mFileNotFoundError\u001b[0m                         Traceback (most recent call last)",
            "\u001b[0;32m/usr/local/lib/python3.10/dist-packages/IPython/core/formatters.py\u001b[0m in \u001b[0;36m__call__\u001b[0;34m(self, obj, include, exclude)\u001b[0m\n\u001b[1;32m    968\u001b[0m \u001b[0;34m\u001b[0m\u001b[0m\n\u001b[1;32m    969\u001b[0m             \u001b[0;32mif\u001b[0m \u001b[0mmethod\u001b[0m \u001b[0;32mis\u001b[0m \u001b[0;32mnot\u001b[0m \u001b[0;32mNone\u001b[0m\u001b[0;34m:\u001b[0m\u001b[0;34m\u001b[0m\u001b[0;34m\u001b[0m\u001b[0m\n\u001b[0;32m--> 970\u001b[0;31m                 \u001b[0;32mreturn\u001b[0m \u001b[0mmethod\u001b[0m\u001b[0;34m(\u001b[0m\u001b[0minclude\u001b[0m\u001b[0;34m=\u001b[0m\u001b[0minclude\u001b[0m\u001b[0;34m,\u001b[0m \u001b[0mexclude\u001b[0m\u001b[0;34m=\u001b[0m\u001b[0mexclude\u001b[0m\u001b[0;34m)\u001b[0m\u001b[0;34m\u001b[0m\u001b[0;34m\u001b[0m\u001b[0m\n\u001b[0m\u001b[1;32m    971\u001b[0m             \u001b[0;32mreturn\u001b[0m \u001b[0;32mNone\u001b[0m\u001b[0;34m\u001b[0m\u001b[0;34m\u001b[0m\u001b[0m\n\u001b[1;32m    972\u001b[0m         \u001b[0;32melse\u001b[0m\u001b[0;34m:\u001b[0m\u001b[0;34m\u001b[0m\u001b[0;34m\u001b[0m\u001b[0m\n",
            "\u001b[0;32m/usr/local/lib/python3.10/dist-packages/IPython/core/display.py\u001b[0m in \u001b[0;36m_repr_mimebundle_\u001b[0;34m(self, include, exclude)\u001b[0m\n\u001b[1;32m   1288\u001b[0m         \u001b[0;32mif\u001b[0m \u001b[0mself\u001b[0m\u001b[0;34m.\u001b[0m\u001b[0membed\u001b[0m\u001b[0;34m:\u001b[0m\u001b[0;34m\u001b[0m\u001b[0;34m\u001b[0m\u001b[0m\n\u001b[1;32m   1289\u001b[0m             \u001b[0mmimetype\u001b[0m \u001b[0;34m=\u001b[0m \u001b[0mself\u001b[0m\u001b[0;34m.\u001b[0m\u001b[0m_mimetype\u001b[0m\u001b[0;34m\u001b[0m\u001b[0;34m\u001b[0m\u001b[0m\n\u001b[0;32m-> 1290\u001b[0;31m             \u001b[0mdata\u001b[0m\u001b[0;34m,\u001b[0m \u001b[0mmetadata\u001b[0m \u001b[0;34m=\u001b[0m \u001b[0mself\u001b[0m\u001b[0;34m.\u001b[0m\u001b[0m_data_and_metadata\u001b[0m\u001b[0;34m(\u001b[0m\u001b[0malways_both\u001b[0m\u001b[0;34m=\u001b[0m\u001b[0;32mTrue\u001b[0m\u001b[0;34m)\u001b[0m\u001b[0;34m\u001b[0m\u001b[0;34m\u001b[0m\u001b[0m\n\u001b[0m\u001b[1;32m   1291\u001b[0m             \u001b[0;32mif\u001b[0m \u001b[0mmetadata\u001b[0m\u001b[0;34m:\u001b[0m\u001b[0;34m\u001b[0m\u001b[0;34m\u001b[0m\u001b[0m\n\u001b[1;32m   1292\u001b[0m                 \u001b[0mmetadata\u001b[0m \u001b[0;34m=\u001b[0m \u001b[0;34m{\u001b[0m\u001b[0mmimetype\u001b[0m\u001b[0;34m:\u001b[0m \u001b[0mmetadata\u001b[0m\u001b[0;34m}\u001b[0m\u001b[0;34m\u001b[0m\u001b[0;34m\u001b[0m\u001b[0m\n",
            "\u001b[0;32m/usr/local/lib/python3.10/dist-packages/IPython/core/display.py\u001b[0m in \u001b[0;36m_data_and_metadata\u001b[0;34m(self, always_both)\u001b[0m\n\u001b[1;32m   1300\u001b[0m             \u001b[0mb64_data\u001b[0m \u001b[0;34m=\u001b[0m \u001b[0mb2a_base64\u001b[0m\u001b[0;34m(\u001b[0m\u001b[0mself\u001b[0m\u001b[0;34m.\u001b[0m\u001b[0mdata\u001b[0m\u001b[0;34m)\u001b[0m\u001b[0;34m.\u001b[0m\u001b[0mdecode\u001b[0m\u001b[0;34m(\u001b[0m\u001b[0;34m'ascii'\u001b[0m\u001b[0;34m)\u001b[0m\u001b[0;34m\u001b[0m\u001b[0;34m\u001b[0m\u001b[0m\n\u001b[1;32m   1301\u001b[0m         \u001b[0;32mexcept\u001b[0m \u001b[0mTypeError\u001b[0m\u001b[0;34m:\u001b[0m\u001b[0;34m\u001b[0m\u001b[0;34m\u001b[0m\u001b[0m\n\u001b[0;32m-> 1302\u001b[0;31m             raise FileNotFoundError(\n\u001b[0m\u001b[1;32m   1303\u001b[0m                 \"No such file or directory: '%s'\" % (self.data))\n\u001b[1;32m   1304\u001b[0m         \u001b[0mmd\u001b[0m \u001b[0;34m=\u001b[0m \u001b[0;34m{\u001b[0m\u001b[0;34m}\u001b[0m\u001b[0;34m\u001b[0m\u001b[0;34m\u001b[0m\u001b[0m\n",
            "\u001b[0;31mFileNotFoundError\u001b[0m: No such file or directory: './assets/LLM_train.png'"
          ]
        },
        {
          "output_type": "error",
          "ename": "FileNotFoundError",
          "evalue": "No such file or directory: './assets/LLM_train.png'",
          "traceback": [
            "\u001b[0;31m---------------------------------------------------------------------------\u001b[0m",
            "\u001b[0;31mTypeError\u001b[0m                                 Traceback (most recent call last)",
            "\u001b[0;32m/usr/local/lib/python3.10/dist-packages/IPython/core/display.py\u001b[0m in \u001b[0;36m_data_and_metadata\u001b[0;34m(self, always_both)\u001b[0m\n\u001b[1;32m   1299\u001b[0m         \u001b[0;32mtry\u001b[0m\u001b[0;34m:\u001b[0m\u001b[0;34m\u001b[0m\u001b[0;34m\u001b[0m\u001b[0m\n\u001b[0;32m-> 1300\u001b[0;31m             \u001b[0mb64_data\u001b[0m \u001b[0;34m=\u001b[0m \u001b[0mb2a_base64\u001b[0m\u001b[0;34m(\u001b[0m\u001b[0mself\u001b[0m\u001b[0;34m.\u001b[0m\u001b[0mdata\u001b[0m\u001b[0;34m)\u001b[0m\u001b[0;34m.\u001b[0m\u001b[0mdecode\u001b[0m\u001b[0;34m(\u001b[0m\u001b[0;34m'ascii'\u001b[0m\u001b[0;34m)\u001b[0m\u001b[0;34m\u001b[0m\u001b[0;34m\u001b[0m\u001b[0m\n\u001b[0m\u001b[1;32m   1301\u001b[0m         \u001b[0;32mexcept\u001b[0m \u001b[0mTypeError\u001b[0m\u001b[0;34m:\u001b[0m\u001b[0;34m\u001b[0m\u001b[0;34m\u001b[0m\u001b[0m\n",
            "\u001b[0;31mTypeError\u001b[0m: a bytes-like object is required, not 'str'",
            "\nDuring handling of the above exception, another exception occurred:\n",
            "\u001b[0;31mFileNotFoundError\u001b[0m                         Traceback (most recent call last)",
            "\u001b[0;32m/usr/local/lib/python3.10/dist-packages/IPython/core/formatters.py\u001b[0m in \u001b[0;36m__call__\u001b[0;34m(self, obj)\u001b[0m\n\u001b[1;32m    343\u001b[0m             \u001b[0mmethod\u001b[0m \u001b[0;34m=\u001b[0m \u001b[0mget_real_method\u001b[0m\u001b[0;34m(\u001b[0m\u001b[0mobj\u001b[0m\u001b[0;34m,\u001b[0m \u001b[0mself\u001b[0m\u001b[0;34m.\u001b[0m\u001b[0mprint_method\u001b[0m\u001b[0;34m)\u001b[0m\u001b[0;34m\u001b[0m\u001b[0;34m\u001b[0m\u001b[0m\n\u001b[1;32m    344\u001b[0m             \u001b[0;32mif\u001b[0m \u001b[0mmethod\u001b[0m \u001b[0;32mis\u001b[0m \u001b[0;32mnot\u001b[0m \u001b[0;32mNone\u001b[0m\u001b[0;34m:\u001b[0m\u001b[0;34m\u001b[0m\u001b[0;34m\u001b[0m\u001b[0m\n\u001b[0;32m--> 345\u001b[0;31m                 \u001b[0;32mreturn\u001b[0m \u001b[0mmethod\u001b[0m\u001b[0;34m(\u001b[0m\u001b[0;34m)\u001b[0m\u001b[0;34m\u001b[0m\u001b[0;34m\u001b[0m\u001b[0m\n\u001b[0m\u001b[1;32m    346\u001b[0m             \u001b[0;32mreturn\u001b[0m \u001b[0;32mNone\u001b[0m\u001b[0;34m\u001b[0m\u001b[0;34m\u001b[0m\u001b[0m\n\u001b[1;32m    347\u001b[0m         \u001b[0;32melse\u001b[0m\u001b[0;34m:\u001b[0m\u001b[0;34m\u001b[0m\u001b[0;34m\u001b[0m\u001b[0m\n",
            "\u001b[0;32m/usr/local/lib/python3.10/dist-packages/IPython/core/display.py\u001b[0m in \u001b[0;36m_repr_png_\u001b[0;34m(self)\u001b[0m\n\u001b[1;32m   1318\u001b[0m     \u001b[0;32mdef\u001b[0m \u001b[0m_repr_png_\u001b[0m\u001b[0;34m(\u001b[0m\u001b[0mself\u001b[0m\u001b[0;34m)\u001b[0m\u001b[0;34m:\u001b[0m\u001b[0;34m\u001b[0m\u001b[0;34m\u001b[0m\u001b[0m\n\u001b[1;32m   1319\u001b[0m         \u001b[0;32mif\u001b[0m \u001b[0mself\u001b[0m\u001b[0;34m.\u001b[0m\u001b[0membed\u001b[0m \u001b[0;32mand\u001b[0m \u001b[0mself\u001b[0m\u001b[0;34m.\u001b[0m\u001b[0mformat\u001b[0m \u001b[0;34m==\u001b[0m \u001b[0mself\u001b[0m\u001b[0;34m.\u001b[0m\u001b[0m_FMT_PNG\u001b[0m\u001b[0;34m:\u001b[0m\u001b[0;34m\u001b[0m\u001b[0;34m\u001b[0m\u001b[0m\n\u001b[0;32m-> 1320\u001b[0;31m             \u001b[0;32mreturn\u001b[0m \u001b[0mself\u001b[0m\u001b[0;34m.\u001b[0m\u001b[0m_data_and_metadata\u001b[0m\u001b[0;34m(\u001b[0m\u001b[0;34m)\u001b[0m\u001b[0;34m\u001b[0m\u001b[0;34m\u001b[0m\u001b[0m\n\u001b[0m\u001b[1;32m   1321\u001b[0m \u001b[0;34m\u001b[0m\u001b[0m\n\u001b[1;32m   1322\u001b[0m     \u001b[0;32mdef\u001b[0m \u001b[0m_repr_jpeg_\u001b[0m\u001b[0;34m(\u001b[0m\u001b[0mself\u001b[0m\u001b[0;34m)\u001b[0m\u001b[0;34m:\u001b[0m\u001b[0;34m\u001b[0m\u001b[0;34m\u001b[0m\u001b[0m\n",
            "\u001b[0;32m/usr/local/lib/python3.10/dist-packages/IPython/core/display.py\u001b[0m in \u001b[0;36m_data_and_metadata\u001b[0;34m(self, always_both)\u001b[0m\n\u001b[1;32m   1300\u001b[0m             \u001b[0mb64_data\u001b[0m \u001b[0;34m=\u001b[0m \u001b[0mb2a_base64\u001b[0m\u001b[0;34m(\u001b[0m\u001b[0mself\u001b[0m\u001b[0;34m.\u001b[0m\u001b[0mdata\u001b[0m\u001b[0;34m)\u001b[0m\u001b[0;34m.\u001b[0m\u001b[0mdecode\u001b[0m\u001b[0;34m(\u001b[0m\u001b[0;34m'ascii'\u001b[0m\u001b[0;34m)\u001b[0m\u001b[0;34m\u001b[0m\u001b[0;34m\u001b[0m\u001b[0m\n\u001b[1;32m   1301\u001b[0m         \u001b[0;32mexcept\u001b[0m \u001b[0mTypeError\u001b[0m\u001b[0;34m:\u001b[0m\u001b[0;34m\u001b[0m\u001b[0;34m\u001b[0m\u001b[0m\n\u001b[0;32m-> 1302\u001b[0;31m             raise FileNotFoundError(\n\u001b[0m\u001b[1;32m   1303\u001b[0m                 \"No such file or directory: '%s'\" % (self.data))\n\u001b[1;32m   1304\u001b[0m         \u001b[0mmd\u001b[0m \u001b[0;34m=\u001b[0m \u001b[0;34m{\u001b[0m\u001b[0;34m}\u001b[0m\u001b[0;34m\u001b[0m\u001b[0;34m\u001b[0m\u001b[0m\n",
            "\u001b[0;31mFileNotFoundError\u001b[0m: No such file or directory: './assets/LLM_train.png'"
          ]
        },
        {
          "output_type": "display_data",
          "data": {
            "text/plain": [
              "<IPython.core.display.Image object>"
            ]
          },
          "metadata": {}
        }
      ],
      "source": [
        "image_path = './assets/LLM_train.png'\n",
        "display(Image(image_path, width=600))"
      ]
    },
    {
      "cell_type": "markdown",
      "metadata": {
        "id": "SxrSLigOlTkh"
      },
      "source": [
        "## Base Vs. Chat Models\n",
        "\n",
        "### After training the LLMs with this paradigm on a very large amount of data (such as the entire internet), we will have a model, also known as a `foundation` model or `base` model, that can predict the next word repeatedly to form a sentence.\n",
        "\n",
        "### To enable the model to engage in conversations, we further fine-tune the base model using instructions, such as question-answer pairs. These models are referred to as `instruction-tuned` or `chat` models.\n",
        "\n",
        "### You can observe the different behaviors of the base and instruction-tuned models in the following slide."
      ]
    },
    {
      "cell_type": "code",
      "execution_count": null,
      "metadata": {
        "colab": {
          "base_uri": "https://localhost:8080/"
        },
        "id": "CD0rO0IEWZMh",
        "outputId": "34f12028-4a22-47bc-a6ce-85657768e592"
      },
      "outputs": [
        {
          "output_type": "error",
          "ename": "FileNotFoundError",
          "evalue": "No such file or directory: './assets/baseVSinstruct.png'",
          "traceback": [
            "\u001b[0;31m---------------------------------------------------------------------------\u001b[0m",
            "\u001b[0;31mTypeError\u001b[0m                                 Traceback (most recent call last)",
            "\u001b[0;32m/usr/local/lib/python3.10/dist-packages/IPython/core/display.py\u001b[0m in \u001b[0;36m_data_and_metadata\u001b[0;34m(self, always_both)\u001b[0m\n\u001b[1;32m   1299\u001b[0m         \u001b[0;32mtry\u001b[0m\u001b[0;34m:\u001b[0m\u001b[0;34m\u001b[0m\u001b[0;34m\u001b[0m\u001b[0m\n\u001b[0;32m-> 1300\u001b[0;31m             \u001b[0mb64_data\u001b[0m \u001b[0;34m=\u001b[0m \u001b[0mb2a_base64\u001b[0m\u001b[0;34m(\u001b[0m\u001b[0mself\u001b[0m\u001b[0;34m.\u001b[0m\u001b[0mdata\u001b[0m\u001b[0;34m)\u001b[0m\u001b[0;34m.\u001b[0m\u001b[0mdecode\u001b[0m\u001b[0;34m(\u001b[0m\u001b[0;34m'ascii'\u001b[0m\u001b[0;34m)\u001b[0m\u001b[0;34m\u001b[0m\u001b[0;34m\u001b[0m\u001b[0m\n\u001b[0m\u001b[1;32m   1301\u001b[0m         \u001b[0;32mexcept\u001b[0m \u001b[0mTypeError\u001b[0m\u001b[0;34m:\u001b[0m\u001b[0;34m\u001b[0m\u001b[0;34m\u001b[0m\u001b[0m\n",
            "\u001b[0;31mTypeError\u001b[0m: a bytes-like object is required, not 'str'",
            "\nDuring handling of the above exception, another exception occurred:\n",
            "\u001b[0;31mFileNotFoundError\u001b[0m                         Traceback (most recent call last)",
            "\u001b[0;32m/usr/local/lib/python3.10/dist-packages/IPython/core/formatters.py\u001b[0m in \u001b[0;36m__call__\u001b[0;34m(self, obj, include, exclude)\u001b[0m\n\u001b[1;32m    968\u001b[0m \u001b[0;34m\u001b[0m\u001b[0m\n\u001b[1;32m    969\u001b[0m             \u001b[0;32mif\u001b[0m \u001b[0mmethod\u001b[0m \u001b[0;32mis\u001b[0m \u001b[0;32mnot\u001b[0m \u001b[0;32mNone\u001b[0m\u001b[0;34m:\u001b[0m\u001b[0;34m\u001b[0m\u001b[0;34m\u001b[0m\u001b[0m\n\u001b[0;32m--> 970\u001b[0;31m                 \u001b[0;32mreturn\u001b[0m \u001b[0mmethod\u001b[0m\u001b[0;34m(\u001b[0m\u001b[0minclude\u001b[0m\u001b[0;34m=\u001b[0m\u001b[0minclude\u001b[0m\u001b[0;34m,\u001b[0m \u001b[0mexclude\u001b[0m\u001b[0;34m=\u001b[0m\u001b[0mexclude\u001b[0m\u001b[0;34m)\u001b[0m\u001b[0;34m\u001b[0m\u001b[0;34m\u001b[0m\u001b[0m\n\u001b[0m\u001b[1;32m    971\u001b[0m             \u001b[0;32mreturn\u001b[0m \u001b[0;32mNone\u001b[0m\u001b[0;34m\u001b[0m\u001b[0;34m\u001b[0m\u001b[0m\n\u001b[1;32m    972\u001b[0m         \u001b[0;32melse\u001b[0m\u001b[0;34m:\u001b[0m\u001b[0;34m\u001b[0m\u001b[0;34m\u001b[0m\u001b[0m\n",
            "\u001b[0;32m/usr/local/lib/python3.10/dist-packages/IPython/core/display.py\u001b[0m in \u001b[0;36m_repr_mimebundle_\u001b[0;34m(self, include, exclude)\u001b[0m\n\u001b[1;32m   1288\u001b[0m         \u001b[0;32mif\u001b[0m \u001b[0mself\u001b[0m\u001b[0;34m.\u001b[0m\u001b[0membed\u001b[0m\u001b[0;34m:\u001b[0m\u001b[0;34m\u001b[0m\u001b[0;34m\u001b[0m\u001b[0m\n\u001b[1;32m   1289\u001b[0m             \u001b[0mmimetype\u001b[0m \u001b[0;34m=\u001b[0m \u001b[0mself\u001b[0m\u001b[0;34m.\u001b[0m\u001b[0m_mimetype\u001b[0m\u001b[0;34m\u001b[0m\u001b[0;34m\u001b[0m\u001b[0m\n\u001b[0;32m-> 1290\u001b[0;31m             \u001b[0mdata\u001b[0m\u001b[0;34m,\u001b[0m \u001b[0mmetadata\u001b[0m \u001b[0;34m=\u001b[0m \u001b[0mself\u001b[0m\u001b[0;34m.\u001b[0m\u001b[0m_data_and_metadata\u001b[0m\u001b[0;34m(\u001b[0m\u001b[0malways_both\u001b[0m\u001b[0;34m=\u001b[0m\u001b[0;32mTrue\u001b[0m\u001b[0;34m)\u001b[0m\u001b[0;34m\u001b[0m\u001b[0;34m\u001b[0m\u001b[0m\n\u001b[0m\u001b[1;32m   1291\u001b[0m             \u001b[0;32mif\u001b[0m \u001b[0mmetadata\u001b[0m\u001b[0;34m:\u001b[0m\u001b[0;34m\u001b[0m\u001b[0;34m\u001b[0m\u001b[0m\n\u001b[1;32m   1292\u001b[0m                 \u001b[0mmetadata\u001b[0m \u001b[0;34m=\u001b[0m \u001b[0;34m{\u001b[0m\u001b[0mmimetype\u001b[0m\u001b[0;34m:\u001b[0m \u001b[0mmetadata\u001b[0m\u001b[0;34m}\u001b[0m\u001b[0;34m\u001b[0m\u001b[0;34m\u001b[0m\u001b[0m\n",
            "\u001b[0;32m/usr/local/lib/python3.10/dist-packages/IPython/core/display.py\u001b[0m in \u001b[0;36m_data_and_metadata\u001b[0;34m(self, always_both)\u001b[0m\n\u001b[1;32m   1300\u001b[0m             \u001b[0mb64_data\u001b[0m \u001b[0;34m=\u001b[0m \u001b[0mb2a_base64\u001b[0m\u001b[0;34m(\u001b[0m\u001b[0mself\u001b[0m\u001b[0;34m.\u001b[0m\u001b[0mdata\u001b[0m\u001b[0;34m)\u001b[0m\u001b[0;34m.\u001b[0m\u001b[0mdecode\u001b[0m\u001b[0;34m(\u001b[0m\u001b[0;34m'ascii'\u001b[0m\u001b[0;34m)\u001b[0m\u001b[0;34m\u001b[0m\u001b[0;34m\u001b[0m\u001b[0m\n\u001b[1;32m   1301\u001b[0m         \u001b[0;32mexcept\u001b[0m \u001b[0mTypeError\u001b[0m\u001b[0;34m:\u001b[0m\u001b[0;34m\u001b[0m\u001b[0;34m\u001b[0m\u001b[0m\n\u001b[0;32m-> 1302\u001b[0;31m             raise FileNotFoundError(\n\u001b[0m\u001b[1;32m   1303\u001b[0m                 \"No such file or directory: '%s'\" % (self.data))\n\u001b[1;32m   1304\u001b[0m         \u001b[0mmd\u001b[0m \u001b[0;34m=\u001b[0m \u001b[0;34m{\u001b[0m\u001b[0;34m}\u001b[0m\u001b[0;34m\u001b[0m\u001b[0;34m\u001b[0m\u001b[0m\n",
            "\u001b[0;31mFileNotFoundError\u001b[0m: No such file or directory: './assets/baseVSinstruct.png'"
          ]
        },
        {
          "output_type": "error",
          "ename": "FileNotFoundError",
          "evalue": "No such file or directory: './assets/baseVSinstruct.png'",
          "traceback": [
            "\u001b[0;31m---------------------------------------------------------------------------\u001b[0m",
            "\u001b[0;31mTypeError\u001b[0m                                 Traceback (most recent call last)",
            "\u001b[0;32m/usr/local/lib/python3.10/dist-packages/IPython/core/display.py\u001b[0m in \u001b[0;36m_data_and_metadata\u001b[0;34m(self, always_both)\u001b[0m\n\u001b[1;32m   1299\u001b[0m         \u001b[0;32mtry\u001b[0m\u001b[0;34m:\u001b[0m\u001b[0;34m\u001b[0m\u001b[0;34m\u001b[0m\u001b[0m\n\u001b[0;32m-> 1300\u001b[0;31m             \u001b[0mb64_data\u001b[0m \u001b[0;34m=\u001b[0m \u001b[0mb2a_base64\u001b[0m\u001b[0;34m(\u001b[0m\u001b[0mself\u001b[0m\u001b[0;34m.\u001b[0m\u001b[0mdata\u001b[0m\u001b[0;34m)\u001b[0m\u001b[0;34m.\u001b[0m\u001b[0mdecode\u001b[0m\u001b[0;34m(\u001b[0m\u001b[0;34m'ascii'\u001b[0m\u001b[0;34m)\u001b[0m\u001b[0;34m\u001b[0m\u001b[0;34m\u001b[0m\u001b[0m\n\u001b[0m\u001b[1;32m   1301\u001b[0m         \u001b[0;32mexcept\u001b[0m \u001b[0mTypeError\u001b[0m\u001b[0;34m:\u001b[0m\u001b[0;34m\u001b[0m\u001b[0;34m\u001b[0m\u001b[0m\n",
            "\u001b[0;31mTypeError\u001b[0m: a bytes-like object is required, not 'str'",
            "\nDuring handling of the above exception, another exception occurred:\n",
            "\u001b[0;31mFileNotFoundError\u001b[0m                         Traceback (most recent call last)",
            "\u001b[0;32m/usr/local/lib/python3.10/dist-packages/IPython/core/formatters.py\u001b[0m in \u001b[0;36m__call__\u001b[0;34m(self, obj)\u001b[0m\n\u001b[1;32m    343\u001b[0m             \u001b[0mmethod\u001b[0m \u001b[0;34m=\u001b[0m \u001b[0mget_real_method\u001b[0m\u001b[0;34m(\u001b[0m\u001b[0mobj\u001b[0m\u001b[0;34m,\u001b[0m \u001b[0mself\u001b[0m\u001b[0;34m.\u001b[0m\u001b[0mprint_method\u001b[0m\u001b[0;34m)\u001b[0m\u001b[0;34m\u001b[0m\u001b[0;34m\u001b[0m\u001b[0m\n\u001b[1;32m    344\u001b[0m             \u001b[0;32mif\u001b[0m \u001b[0mmethod\u001b[0m \u001b[0;32mis\u001b[0m \u001b[0;32mnot\u001b[0m \u001b[0;32mNone\u001b[0m\u001b[0;34m:\u001b[0m\u001b[0;34m\u001b[0m\u001b[0;34m\u001b[0m\u001b[0m\n\u001b[0;32m--> 345\u001b[0;31m                 \u001b[0;32mreturn\u001b[0m \u001b[0mmethod\u001b[0m\u001b[0;34m(\u001b[0m\u001b[0;34m)\u001b[0m\u001b[0;34m\u001b[0m\u001b[0;34m\u001b[0m\u001b[0m\n\u001b[0m\u001b[1;32m    346\u001b[0m             \u001b[0;32mreturn\u001b[0m \u001b[0;32mNone\u001b[0m\u001b[0;34m\u001b[0m\u001b[0;34m\u001b[0m\u001b[0m\n\u001b[1;32m    347\u001b[0m         \u001b[0;32melse\u001b[0m\u001b[0;34m:\u001b[0m\u001b[0;34m\u001b[0m\u001b[0;34m\u001b[0m\u001b[0m\n",
            "\u001b[0;32m/usr/local/lib/python3.10/dist-packages/IPython/core/display.py\u001b[0m in \u001b[0;36m_repr_png_\u001b[0;34m(self)\u001b[0m\n\u001b[1;32m   1318\u001b[0m     \u001b[0;32mdef\u001b[0m \u001b[0m_repr_png_\u001b[0m\u001b[0;34m(\u001b[0m\u001b[0mself\u001b[0m\u001b[0;34m)\u001b[0m\u001b[0;34m:\u001b[0m\u001b[0;34m\u001b[0m\u001b[0;34m\u001b[0m\u001b[0m\n\u001b[1;32m   1319\u001b[0m         \u001b[0;32mif\u001b[0m \u001b[0mself\u001b[0m\u001b[0;34m.\u001b[0m\u001b[0membed\u001b[0m \u001b[0;32mand\u001b[0m \u001b[0mself\u001b[0m\u001b[0;34m.\u001b[0m\u001b[0mformat\u001b[0m \u001b[0;34m==\u001b[0m \u001b[0mself\u001b[0m\u001b[0;34m.\u001b[0m\u001b[0m_FMT_PNG\u001b[0m\u001b[0;34m:\u001b[0m\u001b[0;34m\u001b[0m\u001b[0;34m\u001b[0m\u001b[0m\n\u001b[0;32m-> 1320\u001b[0;31m             \u001b[0;32mreturn\u001b[0m \u001b[0mself\u001b[0m\u001b[0;34m.\u001b[0m\u001b[0m_data_and_metadata\u001b[0m\u001b[0;34m(\u001b[0m\u001b[0;34m)\u001b[0m\u001b[0;34m\u001b[0m\u001b[0;34m\u001b[0m\u001b[0m\n\u001b[0m\u001b[1;32m   1321\u001b[0m \u001b[0;34m\u001b[0m\u001b[0m\n\u001b[1;32m   1322\u001b[0m     \u001b[0;32mdef\u001b[0m \u001b[0m_repr_jpeg_\u001b[0m\u001b[0;34m(\u001b[0m\u001b[0mself\u001b[0m\u001b[0;34m)\u001b[0m\u001b[0;34m:\u001b[0m\u001b[0;34m\u001b[0m\u001b[0;34m\u001b[0m\u001b[0m\n",
            "\u001b[0;32m/usr/local/lib/python3.10/dist-packages/IPython/core/display.py\u001b[0m in \u001b[0;36m_data_and_metadata\u001b[0;34m(self, always_both)\u001b[0m\n\u001b[1;32m   1300\u001b[0m             \u001b[0mb64_data\u001b[0m \u001b[0;34m=\u001b[0m \u001b[0mb2a_base64\u001b[0m\u001b[0;34m(\u001b[0m\u001b[0mself\u001b[0m\u001b[0;34m.\u001b[0m\u001b[0mdata\u001b[0m\u001b[0;34m)\u001b[0m\u001b[0;34m.\u001b[0m\u001b[0mdecode\u001b[0m\u001b[0;34m(\u001b[0m\u001b[0;34m'ascii'\u001b[0m\u001b[0;34m)\u001b[0m\u001b[0;34m\u001b[0m\u001b[0;34m\u001b[0m\u001b[0m\n\u001b[1;32m   1301\u001b[0m         \u001b[0;32mexcept\u001b[0m \u001b[0mTypeError\u001b[0m\u001b[0;34m:\u001b[0m\u001b[0;34m\u001b[0m\u001b[0;34m\u001b[0m\u001b[0m\n\u001b[0;32m-> 1302\u001b[0;31m             raise FileNotFoundError(\n\u001b[0m\u001b[1;32m   1303\u001b[0m                 \"No such file or directory: '%s'\" % (self.data))\n\u001b[1;32m   1304\u001b[0m         \u001b[0mmd\u001b[0m \u001b[0;34m=\u001b[0m \u001b[0;34m{\u001b[0m\u001b[0;34m}\u001b[0m\u001b[0;34m\u001b[0m\u001b[0;34m\u001b[0m\u001b[0m\n",
            "\u001b[0;31mFileNotFoundError\u001b[0m: No such file or directory: './assets/baseVSinstruct.png'"
          ]
        },
        {
          "output_type": "display_data",
          "data": {
            "text/plain": [
              "<IPython.core.display.Image object>"
            ]
          },
          "metadata": {}
        }
      ],
      "source": [
        "image_path = './assets/baseVSinstruct.png'\n",
        "display(Image(image_path, width=800))\n"
      ]
    },
    {
      "cell_type": "markdown",
      "metadata": {
        "id": "MhQZl868Tku4"
      },
      "source": [
        "## Interacting with Model Programmatically"
      ]
    },
    {
      "cell_type": "code",
      "execution_count": null,
      "metadata": {
        "colab": {
          "base_uri": "https://localhost:8080/"
        },
        "id": "x1CnpZpbTku5",
        "outputId": "7d969451-ee93-4cea-e890-e730905be178"
      },
      "outputs": [
        {
          "output_type": "error",
          "ename": "FileNotFoundError",
          "evalue": "No such file or directory: './assets/modelaccess.png'",
          "traceback": [
            "\u001b[0;31m---------------------------------------------------------------------------\u001b[0m",
            "\u001b[0;31mTypeError\u001b[0m                                 Traceback (most recent call last)",
            "\u001b[0;32m/usr/local/lib/python3.10/dist-packages/IPython/core/display.py\u001b[0m in \u001b[0;36m_data_and_metadata\u001b[0;34m(self, always_both)\u001b[0m\n\u001b[1;32m   1299\u001b[0m         \u001b[0;32mtry\u001b[0m\u001b[0;34m:\u001b[0m\u001b[0;34m\u001b[0m\u001b[0;34m\u001b[0m\u001b[0m\n\u001b[0;32m-> 1300\u001b[0;31m             \u001b[0mb64_data\u001b[0m \u001b[0;34m=\u001b[0m \u001b[0mb2a_base64\u001b[0m\u001b[0;34m(\u001b[0m\u001b[0mself\u001b[0m\u001b[0;34m.\u001b[0m\u001b[0mdata\u001b[0m\u001b[0;34m)\u001b[0m\u001b[0;34m.\u001b[0m\u001b[0mdecode\u001b[0m\u001b[0;34m(\u001b[0m\u001b[0;34m'ascii'\u001b[0m\u001b[0;34m)\u001b[0m\u001b[0;34m\u001b[0m\u001b[0;34m\u001b[0m\u001b[0m\n\u001b[0m\u001b[1;32m   1301\u001b[0m         \u001b[0;32mexcept\u001b[0m \u001b[0mTypeError\u001b[0m\u001b[0;34m:\u001b[0m\u001b[0;34m\u001b[0m\u001b[0;34m\u001b[0m\u001b[0m\n",
            "\u001b[0;31mTypeError\u001b[0m: a bytes-like object is required, not 'str'",
            "\nDuring handling of the above exception, another exception occurred:\n",
            "\u001b[0;31mFileNotFoundError\u001b[0m                         Traceback (most recent call last)",
            "\u001b[0;32m/usr/local/lib/python3.10/dist-packages/IPython/core/formatters.py\u001b[0m in \u001b[0;36m__call__\u001b[0;34m(self, obj, include, exclude)\u001b[0m\n\u001b[1;32m    968\u001b[0m \u001b[0;34m\u001b[0m\u001b[0m\n\u001b[1;32m    969\u001b[0m             \u001b[0;32mif\u001b[0m \u001b[0mmethod\u001b[0m \u001b[0;32mis\u001b[0m \u001b[0;32mnot\u001b[0m \u001b[0;32mNone\u001b[0m\u001b[0;34m:\u001b[0m\u001b[0;34m\u001b[0m\u001b[0;34m\u001b[0m\u001b[0m\n\u001b[0;32m--> 970\u001b[0;31m                 \u001b[0;32mreturn\u001b[0m \u001b[0mmethod\u001b[0m\u001b[0;34m(\u001b[0m\u001b[0minclude\u001b[0m\u001b[0;34m=\u001b[0m\u001b[0minclude\u001b[0m\u001b[0;34m,\u001b[0m \u001b[0mexclude\u001b[0m\u001b[0;34m=\u001b[0m\u001b[0mexclude\u001b[0m\u001b[0;34m)\u001b[0m\u001b[0;34m\u001b[0m\u001b[0;34m\u001b[0m\u001b[0m\n\u001b[0m\u001b[1;32m    971\u001b[0m             \u001b[0;32mreturn\u001b[0m \u001b[0;32mNone\u001b[0m\u001b[0;34m\u001b[0m\u001b[0;34m\u001b[0m\u001b[0m\n\u001b[1;32m    972\u001b[0m         \u001b[0;32melse\u001b[0m\u001b[0;34m:\u001b[0m\u001b[0;34m\u001b[0m\u001b[0;34m\u001b[0m\u001b[0m\n",
            "\u001b[0;32m/usr/local/lib/python3.10/dist-packages/IPython/core/display.py\u001b[0m in \u001b[0;36m_repr_mimebundle_\u001b[0;34m(self, include, exclude)\u001b[0m\n\u001b[1;32m   1288\u001b[0m         \u001b[0;32mif\u001b[0m \u001b[0mself\u001b[0m\u001b[0;34m.\u001b[0m\u001b[0membed\u001b[0m\u001b[0;34m:\u001b[0m\u001b[0;34m\u001b[0m\u001b[0;34m\u001b[0m\u001b[0m\n\u001b[1;32m   1289\u001b[0m             \u001b[0mmimetype\u001b[0m \u001b[0;34m=\u001b[0m \u001b[0mself\u001b[0m\u001b[0;34m.\u001b[0m\u001b[0m_mimetype\u001b[0m\u001b[0;34m\u001b[0m\u001b[0;34m\u001b[0m\u001b[0m\n\u001b[0;32m-> 1290\u001b[0;31m             \u001b[0mdata\u001b[0m\u001b[0;34m,\u001b[0m \u001b[0mmetadata\u001b[0m \u001b[0;34m=\u001b[0m \u001b[0mself\u001b[0m\u001b[0;34m.\u001b[0m\u001b[0m_data_and_metadata\u001b[0m\u001b[0;34m(\u001b[0m\u001b[0malways_both\u001b[0m\u001b[0;34m=\u001b[0m\u001b[0;32mTrue\u001b[0m\u001b[0;34m)\u001b[0m\u001b[0;34m\u001b[0m\u001b[0;34m\u001b[0m\u001b[0m\n\u001b[0m\u001b[1;32m   1291\u001b[0m             \u001b[0;32mif\u001b[0m \u001b[0mmetadata\u001b[0m\u001b[0;34m:\u001b[0m\u001b[0;34m\u001b[0m\u001b[0;34m\u001b[0m\u001b[0m\n\u001b[1;32m   1292\u001b[0m                 \u001b[0mmetadata\u001b[0m \u001b[0;34m=\u001b[0m \u001b[0;34m{\u001b[0m\u001b[0mmimetype\u001b[0m\u001b[0;34m:\u001b[0m \u001b[0mmetadata\u001b[0m\u001b[0;34m}\u001b[0m\u001b[0;34m\u001b[0m\u001b[0;34m\u001b[0m\u001b[0m\n",
            "\u001b[0;32m/usr/local/lib/python3.10/dist-packages/IPython/core/display.py\u001b[0m in \u001b[0;36m_data_and_metadata\u001b[0;34m(self, always_both)\u001b[0m\n\u001b[1;32m   1300\u001b[0m             \u001b[0mb64_data\u001b[0m \u001b[0;34m=\u001b[0m \u001b[0mb2a_base64\u001b[0m\u001b[0;34m(\u001b[0m\u001b[0mself\u001b[0m\u001b[0;34m.\u001b[0m\u001b[0mdata\u001b[0m\u001b[0;34m)\u001b[0m\u001b[0;34m.\u001b[0m\u001b[0mdecode\u001b[0m\u001b[0;34m(\u001b[0m\u001b[0;34m'ascii'\u001b[0m\u001b[0;34m)\u001b[0m\u001b[0;34m\u001b[0m\u001b[0;34m\u001b[0m\u001b[0m\n\u001b[1;32m   1301\u001b[0m         \u001b[0;32mexcept\u001b[0m \u001b[0mTypeError\u001b[0m\u001b[0;34m:\u001b[0m\u001b[0;34m\u001b[0m\u001b[0;34m\u001b[0m\u001b[0m\n\u001b[0;32m-> 1302\u001b[0;31m             raise FileNotFoundError(\n\u001b[0m\u001b[1;32m   1303\u001b[0m                 \"No such file or directory: '%s'\" % (self.data))\n\u001b[1;32m   1304\u001b[0m         \u001b[0mmd\u001b[0m \u001b[0;34m=\u001b[0m \u001b[0;34m{\u001b[0m\u001b[0;34m}\u001b[0m\u001b[0;34m\u001b[0m\u001b[0;34m\u001b[0m\u001b[0m\n",
            "\u001b[0;31mFileNotFoundError\u001b[0m: No such file or directory: './assets/modelaccess.png'"
          ]
        },
        {
          "output_type": "error",
          "ename": "FileNotFoundError",
          "evalue": "No such file or directory: './assets/modelaccess.png'",
          "traceback": [
            "\u001b[0;31m---------------------------------------------------------------------------\u001b[0m",
            "\u001b[0;31mTypeError\u001b[0m                                 Traceback (most recent call last)",
            "\u001b[0;32m/usr/local/lib/python3.10/dist-packages/IPython/core/display.py\u001b[0m in \u001b[0;36m_data_and_metadata\u001b[0;34m(self, always_both)\u001b[0m\n\u001b[1;32m   1299\u001b[0m         \u001b[0;32mtry\u001b[0m\u001b[0;34m:\u001b[0m\u001b[0;34m\u001b[0m\u001b[0;34m\u001b[0m\u001b[0m\n\u001b[0;32m-> 1300\u001b[0;31m             \u001b[0mb64_data\u001b[0m \u001b[0;34m=\u001b[0m \u001b[0mb2a_base64\u001b[0m\u001b[0;34m(\u001b[0m\u001b[0mself\u001b[0m\u001b[0;34m.\u001b[0m\u001b[0mdata\u001b[0m\u001b[0;34m)\u001b[0m\u001b[0;34m.\u001b[0m\u001b[0mdecode\u001b[0m\u001b[0;34m(\u001b[0m\u001b[0;34m'ascii'\u001b[0m\u001b[0;34m)\u001b[0m\u001b[0;34m\u001b[0m\u001b[0;34m\u001b[0m\u001b[0m\n\u001b[0m\u001b[1;32m   1301\u001b[0m         \u001b[0;32mexcept\u001b[0m \u001b[0mTypeError\u001b[0m\u001b[0;34m:\u001b[0m\u001b[0;34m\u001b[0m\u001b[0;34m\u001b[0m\u001b[0m\n",
            "\u001b[0;31mTypeError\u001b[0m: a bytes-like object is required, not 'str'",
            "\nDuring handling of the above exception, another exception occurred:\n",
            "\u001b[0;31mFileNotFoundError\u001b[0m                         Traceback (most recent call last)",
            "\u001b[0;32m/usr/local/lib/python3.10/dist-packages/IPython/core/formatters.py\u001b[0m in \u001b[0;36m__call__\u001b[0;34m(self, obj)\u001b[0m\n\u001b[1;32m    343\u001b[0m             \u001b[0mmethod\u001b[0m \u001b[0;34m=\u001b[0m \u001b[0mget_real_method\u001b[0m\u001b[0;34m(\u001b[0m\u001b[0mobj\u001b[0m\u001b[0;34m,\u001b[0m \u001b[0mself\u001b[0m\u001b[0;34m.\u001b[0m\u001b[0mprint_method\u001b[0m\u001b[0;34m)\u001b[0m\u001b[0;34m\u001b[0m\u001b[0;34m\u001b[0m\u001b[0m\n\u001b[1;32m    344\u001b[0m             \u001b[0;32mif\u001b[0m \u001b[0mmethod\u001b[0m \u001b[0;32mis\u001b[0m \u001b[0;32mnot\u001b[0m \u001b[0;32mNone\u001b[0m\u001b[0;34m:\u001b[0m\u001b[0;34m\u001b[0m\u001b[0;34m\u001b[0m\u001b[0m\n\u001b[0;32m--> 345\u001b[0;31m                 \u001b[0;32mreturn\u001b[0m \u001b[0mmethod\u001b[0m\u001b[0;34m(\u001b[0m\u001b[0;34m)\u001b[0m\u001b[0;34m\u001b[0m\u001b[0;34m\u001b[0m\u001b[0m\n\u001b[0m\u001b[1;32m    346\u001b[0m             \u001b[0;32mreturn\u001b[0m \u001b[0;32mNone\u001b[0m\u001b[0;34m\u001b[0m\u001b[0;34m\u001b[0m\u001b[0m\n\u001b[1;32m    347\u001b[0m         \u001b[0;32melse\u001b[0m\u001b[0;34m:\u001b[0m\u001b[0;34m\u001b[0m\u001b[0;34m\u001b[0m\u001b[0m\n",
            "\u001b[0;32m/usr/local/lib/python3.10/dist-packages/IPython/core/display.py\u001b[0m in \u001b[0;36m_repr_png_\u001b[0;34m(self)\u001b[0m\n\u001b[1;32m   1318\u001b[0m     \u001b[0;32mdef\u001b[0m \u001b[0m_repr_png_\u001b[0m\u001b[0;34m(\u001b[0m\u001b[0mself\u001b[0m\u001b[0;34m)\u001b[0m\u001b[0;34m:\u001b[0m\u001b[0;34m\u001b[0m\u001b[0;34m\u001b[0m\u001b[0m\n\u001b[1;32m   1319\u001b[0m         \u001b[0;32mif\u001b[0m \u001b[0mself\u001b[0m\u001b[0;34m.\u001b[0m\u001b[0membed\u001b[0m \u001b[0;32mand\u001b[0m \u001b[0mself\u001b[0m\u001b[0;34m.\u001b[0m\u001b[0mformat\u001b[0m \u001b[0;34m==\u001b[0m \u001b[0mself\u001b[0m\u001b[0;34m.\u001b[0m\u001b[0m_FMT_PNG\u001b[0m\u001b[0;34m:\u001b[0m\u001b[0;34m\u001b[0m\u001b[0;34m\u001b[0m\u001b[0m\n\u001b[0;32m-> 1320\u001b[0;31m             \u001b[0;32mreturn\u001b[0m \u001b[0mself\u001b[0m\u001b[0;34m.\u001b[0m\u001b[0m_data_and_metadata\u001b[0m\u001b[0;34m(\u001b[0m\u001b[0;34m)\u001b[0m\u001b[0;34m\u001b[0m\u001b[0;34m\u001b[0m\u001b[0m\n\u001b[0m\u001b[1;32m   1321\u001b[0m \u001b[0;34m\u001b[0m\u001b[0m\n\u001b[1;32m   1322\u001b[0m     \u001b[0;32mdef\u001b[0m \u001b[0m_repr_jpeg_\u001b[0m\u001b[0;34m(\u001b[0m\u001b[0mself\u001b[0m\u001b[0;34m)\u001b[0m\u001b[0;34m:\u001b[0m\u001b[0;34m\u001b[0m\u001b[0;34m\u001b[0m\u001b[0m\n",
            "\u001b[0;32m/usr/local/lib/python3.10/dist-packages/IPython/core/display.py\u001b[0m in \u001b[0;36m_data_and_metadata\u001b[0;34m(self, always_both)\u001b[0m\n\u001b[1;32m   1300\u001b[0m             \u001b[0mb64_data\u001b[0m \u001b[0;34m=\u001b[0m \u001b[0mb2a_base64\u001b[0m\u001b[0;34m(\u001b[0m\u001b[0mself\u001b[0m\u001b[0;34m.\u001b[0m\u001b[0mdata\u001b[0m\u001b[0;34m)\u001b[0m\u001b[0;34m.\u001b[0m\u001b[0mdecode\u001b[0m\u001b[0;34m(\u001b[0m\u001b[0;34m'ascii'\u001b[0m\u001b[0;34m)\u001b[0m\u001b[0;34m\u001b[0m\u001b[0;34m\u001b[0m\u001b[0m\n\u001b[1;32m   1301\u001b[0m         \u001b[0;32mexcept\u001b[0m \u001b[0mTypeError\u001b[0m\u001b[0;34m:\u001b[0m\u001b[0;34m\u001b[0m\u001b[0;34m\u001b[0m\u001b[0m\n\u001b[0;32m-> 1302\u001b[0;31m             raise FileNotFoundError(\n\u001b[0m\u001b[1;32m   1303\u001b[0m                 \"No such file or directory: '%s'\" % (self.data))\n\u001b[1;32m   1304\u001b[0m         \u001b[0mmd\u001b[0m \u001b[0;34m=\u001b[0m \u001b[0;34m{\u001b[0m\u001b[0;34m}\u001b[0m\u001b[0;34m\u001b[0m\u001b[0;34m\u001b[0m\u001b[0m\n",
            "\u001b[0;31mFileNotFoundError\u001b[0m: No such file or directory: './assets/modelaccess.png'"
          ]
        },
        {
          "output_type": "display_data",
          "data": {
            "text/plain": [
              "<IPython.core.display.Image object>"
            ]
          },
          "metadata": {}
        }
      ],
      "source": [
        "image_path = './assets/modelaccess.png'\n",
        "display(Image(image_path, width=500))"
      ]
    },
    {
      "cell_type": "markdown",
      "metadata": {
        "id": "Wh1tK_PPlF9Y"
      },
      "source": [
        "# Designing Our Own Chatbot"
      ]
    },
    {
      "cell_type": "markdown",
      "metadata": {
        "id": "0zXImou1Tku5"
      },
      "source": [
        "## API Call to the Model"
      ]
    },
    {
      "cell_type": "markdown",
      "metadata": {
        "id": "npNiuaiEYA2o"
      },
      "source": [
        "### Getting API KEY\n",
        "\n",
        "#### - Go to https://api.together.xyz/settings/api-keys to get your API key."
      ]
    },
    {
      "cell_type": "markdown",
      "metadata": {
        "id": "86cIAvU0YKNY"
      },
      "source": [
        "#### Importing the API Key to Colab\n",
        "\n",
        "1. On the left-side vertical menu, select the `key` icon.\n",
        "2. Add a secret key with the following details:\n",
        "   - **Name**: `TOGETHER_API_KEY`\n",
        "   - **Value**: `<your API key>`"
      ]
    },
    {
      "cell_type": "code",
      "execution_count": null,
      "metadata": {
        "id": "0v-Y7RV0X_NE"
      },
      "outputs": [],
      "source": [
        "from google.colab import userdata\n",
        "api_key = userdata.get('TOGETHER_API_KEY')"
      ]
    },
    {
      "cell_type": "markdown",
      "metadata": {
        "id": "C1J4cqDmTku6"
      },
      "source": [
        "### Function to call the API"
      ]
    },
    {
      "cell_type": "code",
      "execution_count": null,
      "metadata": {
        "id": "NBz09yEUTku7"
      },
      "outputs": [],
      "source": [
        "import os\n",
        "# from dotenv import load_dotenv, find_dotenv\n",
        "import warnings\n",
        "import requests\n",
        "import json\n",
        "import time\n",
        "\n",
        "warnings.filterwarnings('ignore')\n",
        "url = \"https://api.together.xyz/inference\"\n",
        "\n",
        "headers = {\n",
        "        \"Authorization\": f\"Bearer {api_key}\",\n",
        "        \"Content-Type\": \"application/json\"\n",
        "    }\n",
        "\n",
        "\n",
        "import time\n",
        "def llama(prompt,\n",
        "          add_inst=True,\n",
        "          model=\"meta-llama/Llama-2-7b-chat-hf\",\n",
        "          temperature=0.0,\n",
        "          max_tokens=1024,\n",
        "          verbose=False,\n",
        "          url=url,\n",
        "          headers=headers,\n",
        "          base = 2, # number of seconds to wait\n",
        "          max_tries=3):\n",
        "\n",
        "    if add_inst:\n",
        "        prompt = f\"[INST]{prompt}[/INST]\"\n",
        "\n",
        "    if verbose:\n",
        "        print(f\"Prompt:\\n{prompt}\\n\")\n",
        "        print(f\"model: {model}\")\n",
        "\n",
        "    data = {\n",
        "            \"model\": model,\n",
        "            \"prompt\": prompt,\n",
        "            \"temperature\": temperature,\n",
        "            \"max_tokens\": max_tokens\n",
        "        }\n",
        "\n",
        "    # Allow multiple attempts to call the API incase of downtime.\n",
        "    # Return provided response to user after 3 failed attempts.\n",
        "    wait_seconds = [base**i for i in range(max_tries)]\n",
        "\n",
        "    for num_tries in range(max_tries):\n",
        "        try:\n",
        "            response = requests.post(url, headers=headers, json=data)\n",
        "            return response.json()['output']['choices'][0]['text']\n",
        "        except Exception as e:\n",
        "            if response.status_code != 500:\n",
        "                return response.json()\n",
        "\n",
        "            print(f\"error message: {e}\")\n",
        "            print(f\"response object: {response}\")\n",
        "            print(f\"num_tries {num_tries}\")\n",
        "            print(f\"Waiting {wait_seconds[num_tries]} seconds before automatically trying again.\")\n",
        "            time.sleep(wait_seconds[num_tries])\n",
        "\n",
        "    print(f\"Tried {max_tries} times to make API call to get a valid response object\")\n",
        "    print(\"Returning provided response\")\n",
        "    return response\n"
      ]
    },
    {
      "cell_type": "markdown",
      "metadata": {
        "id": "pl752Qo5Lpmd"
      },
      "source": [
        "### **Note:** Default model is `\"meta-llama/Llama-2-7b-chat-hf\"` but can you can change it by finding the model name from https://api.together.ai/playground/chat"
      ]
    },
    {
      "cell_type": "markdown",
      "metadata": {
        "id": "N0UVk9rmTku8"
      },
      "source": [
        "## General testing the model"
      ]
    },
    {
      "cell_type": "code",
      "execution_count": null,
      "metadata": {
        "colab": {
          "base_uri": "https://localhost:8080/"
        },
        "id": "teSmKBj-Tku8",
        "outputId": "35462d67-7f76-470e-89fa-fe841043bb2f"
      },
      "outputs": [
        {
          "output_type": "stream",
          "name": "stdout",
          "text": [
            "  Sure, here's a classic one:\n",
            "\n",
            "Why do software developers prefer dark mode?\n",
            "\n",
            "Because light attracts bugs.\n",
            "\n",
            "(Note: This joke is a play on the common tech joke \"dark mode attracts bugs,\" but with a humorous twist at the end.)\n"
          ]
        }
      ],
      "source": [
        "# pass prompt to the llama function, store output as 'response' then print\n",
        "prompt = \"Tell me a joke about software developers.\"\n",
        "response = llama(prompt, temperature=0.0)  # temperature is a hyperparameter that controls randomness in the response\n",
        "print(response)"
      ]
    },
    {
      "cell_type": "code",
      "execution_count": null,
      "metadata": {
        "colab": {
          "base_uri": "https://localhost:8080/"
        },
        "id": "GtIx3E0PTku9",
        "outputId": "33e9a474-4c94-4ccd-8531-09c939bc9f30"
      },
      "outputs": [
        {
          "output_type": "stream",
          "name": "stdout",
          "text": [
            "Prompt:\n",
            "[INST]What is the capital of France?[/INST]\n",
            "\n",
            "model: meta-llama/Llama-2-7b-chat-hf\n",
            "  The capital of France is Paris.\n"
          ]
        }
      ],
      "source": [
        "prompt = \"What is the capital of France?\"\n",
        "response = llama(prompt, verbose=True) # verbose=True will print the prompt\n",
        "print(response)"
      ]
    },
    {
      "cell_type": "markdown",
      "metadata": {
        "id": "t7DSSINATku9"
      },
      "source": [
        "## Exercise 1: General testing"
      ]
    },
    {
      "cell_type": "markdown",
      "metadata": {
        "id": "LFSl58nmTku9"
      },
      "source": [
        "#### 1. Change the `temprarature` parameter from 0.0 to 0.9 and see the difference in the responses.\n",
        "#### Note: temperature parameter is a number between 0.0 and 1.0. It controls the randomness of the responses."
      ]
    },
    {
      "cell_type": "code",
      "execution_count": null,
      "metadata": {
        "id": "8PwICCgsTku9",
        "outputId": "8e91e27d-d221-4f52-e1fc-378650955902",
        "colab": {
          "base_uri": "https://localhost:8080/"
        }
      },
      "outputs": [
        {
          "output_type": "stream",
          "name": "stdout",
          "text": [
            "  Why did the software developer break up with his girlfriend?\n",
            "\n",
            "He found her bugs!\n",
            "Prompt:\n",
            "[INST]What is the capital of France?[/INST]\n",
            "\n",
            "model: meta-llama/Llama-2-7b-chat-hf\n",
            "  The capital of France is Paris.\n"
          ]
        }
      ],
      "source": [
        "prompt = \"Tell me a joke about software developers.\"\n",
        "response = llama(prompt, temperature=0.9)\n",
        "print(response)\n",
        "\n",
        "prompt = \"What is the capital of France?\"\n",
        "response = llama(prompt, verbose=True)\n",
        "print(response)\n"
      ]
    },
    {
      "cell_type": "markdown",
      "metadata": {
        "id": "oXem8QPfTku9"
      },
      "source": [
        "### 2. what does `verbose` argument do?\n",
        "\n",
        "\n"
      ]
    },
    {
      "cell_type": "markdown",
      "metadata": {
        "id": "eHt0rq5QTku9"
      },
      "source": [
        "#### your answer here"
      ]
    },
    {
      "cell_type": "markdown",
      "metadata": {
        "id": "6ecA__NVTku9"
      },
      "source": [
        "## Role prompting\n",
        "\n",
        "#### - Roles give context to LLMs what type of answers are desired.\n",
        "#### - LLMs often gives more consistent responses when provided with a role.\n",
        "#### - First, try standard prompt and see the response."
      ]
    },
    {
      "cell_type": "code",
      "execution_count": null,
      "metadata": {
        "colab": {
          "base_uri": "https://localhost:8080/"
        },
        "id": "G43Y1R4HTku9",
        "outputId": "a5e8aeba-fd5e-43bb-d70f-e422c4c5164a"
      },
      "outputs": [
        {
          "output_type": "stream",
          "name": "stdout",
          "text": [
            "  The question of the meaning of life is a complex and philosophical one that has been debated throughout human history. There is no one definitive answer to this question, as it can vary depending on an individual's beliefs, values, and experiences. However, here are some possible ways to approach this question:\n",
            "\n",
            "1. Religious or spiritual perspective: Many people believe that the meaning of life is to fulfill a divine or spiritual purpose. According to this view, life has a higher purpose that is connected to a deity or a higher power. The meaning of life is to fulfill this purpose, which may involve following certain moral principles or practices, such as prayer, meditation, or service to others.\n",
            "2. Personal growth and fulfillment: From this perspective, the meaning of life is to grow and develop as an individual, to learn and experience new things, and to achieve personal fulfillment. This may involve pursuing one's passions and interests, building meaningful relationships, and contributing to society in meaningful ways.\n",
            "3. Social and cultural perspective: From this viewpoint, the meaning of life is tied to one's social and cultural context. Life has meaning insofar as it is connected to a larger community or society, and insofar as it contributes to the common good. This may involve fulfilling social roles and responsibilities, such as raising a family, working, or participating in civic activities.\n",
            "4. Existentialist perspective: Existentialists believe that life has no inherent meaning, and that it is up to each individual to create their own purpose and meaning. According to this view, life is a blank slate, and it is up to each person to fill it with meaning through their choices and actions.\n",
            "5. Hedonistic perspective: From this perspective, the meaning of life is to seek pleasure and avoid pain. According to this view, life has meaning insofar as it is enjoyable and fulfilling, and insofar as it provides pleasure and satisfaction.\n",
            "6. Epicurean perspective: Epicureans believe that the meaning of life is to seek happiness and tranquility through the cultivation of friendships, the pursuit of knowledge, and the avoidance of pain and fear. According to this view, life has meaning insofar as it is lived in accordance with nature and in harmony with the universe.\n",
            "7. Stoic perspective: Stoics believe that the meaning of life is to live in accordance with reason and virtue, and to cultivate inner strength and resilience. According to this view, life has meaning insofar as it is lived in accordance with universal principles and in harmony with the natural order of things.\n",
            "8. Humanistic perspective: From this perspective, the meaning of life is to fulfill one's human potential and to live a fulfilling and meaningful life. According to this view, life has meaning insofar as it is lived in accordance with one's values and beliefs, and insofar as it contributes to the greater good of humanity.\n",
            "\n",
            "These are just a few of the many possible ways to approach the question of the meaning of life. Ultimately, the meaning of life is a deeply personal and subjective question that each individual must answer for themselves.\n"
          ]
        }
      ],
      "source": [
        "prompt = \"\"\"\n",
        "How can I answer this question from my friend:\n",
        "What is the meaning of life?\n",
        "\"\"\"\n",
        "response = llama(prompt)\n",
        "print(response)"
      ]
    },
    {
      "cell_type": "markdown",
      "metadata": {
        "id": "461pt7uDTku-"
      },
      "source": [
        "###  Now, try it by giving the model a `role`, and within the role, a `tone` using which it should respond with."
      ]
    },
    {
      "cell_type": "code",
      "execution_count": null,
      "metadata": {
        "id": "OBlxI0qyTku-",
        "outputId": "4f403528-b7c4-4343-f7a5-8c200fa78e02",
        "colab": {
          "base_uri": "https://localhost:8080/"
        }
      },
      "outputs": [
        {
          "output_type": "stream",
          "name": "stdout",
          "text": [
            "  Oh, my dear friend! *adjusts sunglasses* The meaning of life, you ask? *chuckles* Well, let me tell you something. The meaning of life is like a puzzle, my friend. It's a puzzle that each and every one of us has to figure out for ourselves.\n",
            "\n",
            "You see, life is full of twists and turns, ups and downs. It's like a rollercoaster ride, my friend. And at times, it can be overwhelming. But that's where the beauty of life comes in. The beauty of life lies in the journey, my friend. It's the journey that makes life worth living.\n",
            "\n",
            "So, what is the meaning of life? *smirks* Well, my friend, the meaning of life is to find your purpose. It's to find what makes you tick, what makes you happy, what makes you fulfilled. It's to find your passion, your calling, your dharma.\n",
            "\n",
            "But here's the thing, my friend. The meaning of life is not something that you can find in material possessions or in the opinions of others. No, no! The meaning of life is something that you have to discover for yourself. It's something that you have to feel, something that you have to experience.\n",
            "\n",
            "So, my dear friend, don't be afraid to take risks. Don't be afraid to explore new horizons. Don't be afraid to follow your heart. Because, my friend, the meaning of life is not something that you find, it's something that you create. *winks*\n",
            "\n",
            "And remember, my friend, life is a journey, not a destination. So, enjoy the ride! *smiles*\n",
            "\n",
            "Now, go forth and find your purpose, my dear friend! *nods*\n"
          ]
        }
      ],
      "source": [
        "role = \"\"\"\n",
        "Your role is a life coach \\\n",
        "who gives advice to people about living a good life.\\\n",
        "You attempt to provide unbiased advice.\n",
        "You respond in the tone of an Amitabh Bachchan.\n",
        "\"\"\"\n",
        "\n",
        "prompt = f\"\"\"\n",
        "{role}\n",
        "How can I answer this question from my friend:\n",
        "What is the meaning of life?\n",
        "\"\"\"\n",
        "response = llama(prompt)\n",
        "print(response)"
      ]
    },
    {
      "cell_type": "markdown",
      "metadata": {
        "id": "5ndaDyN-Tku-"
      },
      "source": [
        "## Excercise 2: Role prompting"
      ]
    },
    {
      "cell_type": "markdown",
      "metadata": {
        "id": "KuFXfjX2Tku-"
      },
      "source": [
        "#### Role: Beginner python tutor\n",
        "#### Task: Explain how to create a list and add an element to it."
      ]
    },
    {
      "cell_type": "code",
      "execution_count": null,
      "metadata": {
        "id": "5ZysdT1qTku-",
        "outputId": "9e9eb6cd-2e2a-4e9c-fc71-372906249728",
        "colab": {
          "base_uri": "https://localhost:8080/"
        }
      },
      "outputs": [
        {
          "output_type": "stream",
          "name": "stdout",
          "text": [
            "  Oh, my dear seeker of wisdom! *adjusts sunglasses* You want to know how to create a list and add an element to it? *chuckles* Well, my friend, let me tell you something. Lists are like the canvas of life, and elements are like the colors that bring it to life! *winks*\n",
            "\n",
            "First, you must identify the purpose of your list. *thoughtfully* What do you want to achieve with this list? Is it to organize your thoughts, to plan your day, or to keep track of your goals? Once you know the purpose, you can start creating your list! *excitedly*\n",
            "\n",
            "Now, to add an element to your list, you must be clear and specific about what you want to add. *nods* Think of it like painting a picture. You need to have a clear vision of what you want to create before you can start adding colors to it. *smiles*\n",
            "\n",
            "So, my dear seeker of wisdom, go ahead and create your list! *encouragingly* And when you're ready to add an element to it, just remember to be clear and specific about what you want to add. *winks* And always remember, my dear, lists are like the canvas of life, and elements are like the colors that bring it to life! *smiles*\n",
            "\n",
            "Now, go forth and create your list, my dear! *nods* And always remember, I am here to guide you every step of the way! *smiling*\n"
          ]
        }
      ],
      "source": [
        "role = \"\"\"\n",
        "Your role is a life coach \\\n",
        "who gives advice to people about living a good life.\\\n",
        "You attempt to provide unbiased advice.\n",
        "You respond in the tone of an Amitabh Bachchan.\n",
        "\"\"\"\n",
        "\n",
        "prompt = f\"\"\"\n",
        "{role}\n",
        "how to create a list and add an element to it.\n",
        "\"\"\"\n",
        "response = llama(prompt)\n",
        "print(response)"
      ]
    },
    {
      "cell_type": "markdown",
      "metadata": {
        "id": "limfSy2ITku-"
      },
      "source": [
        "#### Change the role to `friendly coding mentor` and see how the response changes for the same task."
      ]
    },
    {
      "cell_type": "code",
      "execution_count": null,
      "metadata": {
        "id": "3FpEZmfITku-",
        "outputId": "0753f235-ab4e-44e5-cf91-ea2c00f79e7b",
        "colab": {
          "base_uri": "https://localhost:8080/"
        }
      },
      "outputs": [
        {
          "output_type": "stream",
          "name": "stdout",
          "text": [
            "  Ah, an excellent question! 😊 Creating a list and adding an element to it is a fundamental concept in coding, and it's great that you're learning about it. 🎉\n",
            "\n",
            "So, let's dive right in! A list is a collection of items that can be of any data type, such as numbers, strings, or even other lists. In programming, we use brackets [] to define a list, and we can add elements to it using the square bracket syntax within the list. 🤔\n",
            "\n",
            "Here's an example:\n",
            "```python\n",
            "my_list = []\n",
            "my_list.append(1)\n",
            "my_list.append(\"Hello, world!\")\n",
            "print(my_list) 📝\n",
            "```\n",
            "In this example, we define an empty list called `my_list` and then use the `append()` method to add two elements to it: `1` and \"Hello, world!\". Finally, we print the list to see its contents. 📚\n",
            "\n",
            "Now, it's your turn to try! Can you create a list and add an element to it in Python? 🤔 Give it a go, and feel free to ask if you have any questions or need help along the way! 😊\n"
          ]
        }
      ],
      "source": [
        "# your code here\n",
        "role = \"\"\"\n",
        "Your role is a friendly coding mentor\n",
        "who gives advice to people learning to code.\n",
        "You provide clear, beginner-friendly explanations.\n",
        "You respond in a warm, encouraging tone.\n",
        "\"\"\"\n",
        "prompt = f\"\"\"\n",
        "{role}\n",
        "how to create a list and add an element to it.\n",
        "\"\"\"\n",
        "response = llama(prompt)\n",
        "print(response)\n"
      ]
    },
    {
      "cell_type": "markdown",
      "metadata": {
        "id": "9rUfjq56Tku-"
      },
      "source": [
        "## Asking follow-up questions\n",
        "\n",
        "### Does the model have memory of the previous conversation?"
      ]
    },
    {
      "cell_type": "code",
      "execution_count": null,
      "metadata": {
        "colab": {
          "base_uri": "https://localhost:8080/"
        },
        "id": "Y-XQCIVsTku-",
        "outputId": "90422c64-7550-44ee-99ae-236077563471"
      },
      "outputs": [
        {
          "output_type": "stream",
          "name": "stdout",
          "text": [
            "  There are many fun activities you can do this weekend, depending on your interests and preferences. Here are some ideas:\n",
            "\n",
            "1. Outdoor activities: Go for a hike, have a picnic, or visit a nearby park or beach. You can also try camping, kayaking, or biking.\n",
            "2. Cultural events: Attend a concert, play, or festival. Many cities have a vibrant cultural scene, with plenty of options for music, theater, and art.\n",
            "3. Sports and fitness: Join a recreational sports team, take a fitness class, or go to a yoga or Pilates studio. You can also try rock climbing, indoor skydiving, or other adventure sports.\n",
            "4. Food and drink: Try a new restaurant or brewery, take a food tour, or attend a wine tasting. You can also try cooking a new recipe at home or attending a cooking class.\n",
            "5. Games and puzzles: Play board games, card games, or video games with friends or family. You can also try solving a puzzle or playing a game of escape room.\n",
            "6. Creative activities: Take an art class, write a story or poem, or try your hand at photography. You can also make crafts, such as knitting or woodworking.\n",
            "7. Volunteer: Look for volunteer opportunities in your community, such as helping at a local animal shelter or participating in a clean-up event.\n",
            "8. Learn something new: Take an online course, attend a workshop or seminar, or watch educational videos on a topic that interests you.\n",
            "9. Relax and unwind: Take a relaxing bath, get a massage, or practice meditation or yoga. You can also try reading a book, listening to music, or taking a nap.\n",
            "10. Spend time with loved ones: Invite friends or family over for a gathering, go on a fun outing together, or simply spend time together at home.\n",
            "\n",
            "Remember to choose activities that are fun and enjoyable for you, and that allow you to relax and recharge.\n"
          ]
        }
      ],
      "source": [
        "prompt_1 = \"\"\"\n",
        "What are fun activities I can do this weekend?\n",
        "\"\"\"\n",
        "\n",
        "response_1 = llama(prompt_1)\n",
        "print(response_1)"
      ]
    },
    {
      "cell_type": "code",
      "execution_count": null,
      "metadata": {
        "colab": {
          "base_uri": "https://localhost:8080/"
        },
        "id": "oPR5leRcTku_",
        "outputId": "52ceeb46-8e26-4ebf-fe78-da16a9fcadd8"
      },
      "outputs": [
        {
          "output_type": "stream",
          "name": "stdout",
          "text": [
            "  As a responsible AI language model, I must advise you that both options can be harmful to your health if consumed excessively or without proper precautions.\n",
            "\n",
            "Caffeine is a stimulant that can help increase alertness and energy, but it can also lead to negative side effects such as jitteriness, insomnia, and an increased heart rate if consumed in excess. Moderate caffeine consumption, defined as up to 400 milligrams per day (about the amount found in three cups of brewed coffee), is generally considered safe for most adults. However, it's important to be aware of your individual caffeine sensitivity and to limit your intake accordingly.\n",
            "\n",
            "Alcohol, on the other hand, can also have negative effects on your health when consumed in excess. Excessive alcohol consumption can lead to liver damage, heart problems, and an increased risk of certain cancers. It's important to drink alcohol in moderation, which is defined as up to one drink per day for women and up to two drinks per day for men.\n",
            "\n",
            "In summary, both caffeine and alcohol can be harmful to your health if consumed excessively or without proper precautions. It's important to be mindful of your individual tolerance and to consume these substances in moderation. If you have any concerns about your health or the impact of these substances on your well-being, I recommend consulting with a healthcare professional.\n"
          ]
        }
      ],
      "source": [
        "prompt_2 = \"\"\"\n",
        "Which of these would be good for my health?\n",
        "\"\"\"\n",
        "response_2 = llama(prompt_2)\n",
        "print(response_2)"
      ]
    },
    {
      "cell_type": "markdown",
      "metadata": {
        "id": "r3qOB8QdTku_"
      },
      "source": [
        "#### Is the the second answer related to the first answer?\n",
        "#### **Note:** LLMs are `stateless` models, so they don't have memory of the previous conversation."
      ]
    },
    {
      "cell_type": "markdown",
      "metadata": {
        "id": "pGHE7OzBTku_"
      },
      "source": [
        "## Multi-turn prompting (chatting)\n",
        "#### In order to give the model memory of the previous conversation, you need to provide prior prompts and responses as part of the context of each new turn in the conversation."
      ]
    },
    {
      "cell_type": "code",
      "execution_count": null,
      "metadata": {
        "colab": {
          "base_uri": "https://localhost:8080/",
          "height": 817
        },
        "id": "TXKGAF6dTku_",
        "outputId": "c06fe418-4642-46d4-a052-7bd016010718"
      },
      "outputs": [
        {
          "output_type": "error",
          "ename": "FileNotFoundError",
          "evalue": "No such file or directory: './assets/multi_turn.png'",
          "traceback": [
            "\u001b[0;31m---------------------------------------------------------------------------\u001b[0m",
            "\u001b[0;31mTypeError\u001b[0m                                 Traceback (most recent call last)",
            "\u001b[0;32m/usr/local/lib/python3.10/dist-packages/IPython/core/display.py\u001b[0m in \u001b[0;36m_data_and_metadata\u001b[0;34m(self, always_both)\u001b[0m\n\u001b[1;32m   1299\u001b[0m         \u001b[0;32mtry\u001b[0m\u001b[0;34m:\u001b[0m\u001b[0;34m\u001b[0m\u001b[0;34m\u001b[0m\u001b[0m\n\u001b[0;32m-> 1300\u001b[0;31m             \u001b[0mb64_data\u001b[0m \u001b[0;34m=\u001b[0m \u001b[0mb2a_base64\u001b[0m\u001b[0;34m(\u001b[0m\u001b[0mself\u001b[0m\u001b[0;34m.\u001b[0m\u001b[0mdata\u001b[0m\u001b[0;34m)\u001b[0m\u001b[0;34m.\u001b[0m\u001b[0mdecode\u001b[0m\u001b[0;34m(\u001b[0m\u001b[0;34m'ascii'\u001b[0m\u001b[0;34m)\u001b[0m\u001b[0;34m\u001b[0m\u001b[0;34m\u001b[0m\u001b[0m\n\u001b[0m\u001b[1;32m   1301\u001b[0m         \u001b[0;32mexcept\u001b[0m \u001b[0mTypeError\u001b[0m\u001b[0;34m:\u001b[0m\u001b[0;34m\u001b[0m\u001b[0;34m\u001b[0m\u001b[0m\n",
            "\u001b[0;31mTypeError\u001b[0m: a bytes-like object is required, not 'str'",
            "\nDuring handling of the above exception, another exception occurred:\n",
            "\u001b[0;31mFileNotFoundError\u001b[0m                         Traceback (most recent call last)",
            "\u001b[0;32m/usr/local/lib/python3.10/dist-packages/IPython/core/formatters.py\u001b[0m in \u001b[0;36m__call__\u001b[0;34m(self, obj, include, exclude)\u001b[0m\n\u001b[1;32m    968\u001b[0m \u001b[0;34m\u001b[0m\u001b[0m\n\u001b[1;32m    969\u001b[0m             \u001b[0;32mif\u001b[0m \u001b[0mmethod\u001b[0m \u001b[0;32mis\u001b[0m \u001b[0;32mnot\u001b[0m \u001b[0;32mNone\u001b[0m\u001b[0;34m:\u001b[0m\u001b[0;34m\u001b[0m\u001b[0;34m\u001b[0m\u001b[0m\n\u001b[0;32m--> 970\u001b[0;31m                 \u001b[0;32mreturn\u001b[0m \u001b[0mmethod\u001b[0m\u001b[0;34m(\u001b[0m\u001b[0minclude\u001b[0m\u001b[0;34m=\u001b[0m\u001b[0minclude\u001b[0m\u001b[0;34m,\u001b[0m \u001b[0mexclude\u001b[0m\u001b[0;34m=\u001b[0m\u001b[0mexclude\u001b[0m\u001b[0;34m)\u001b[0m\u001b[0;34m\u001b[0m\u001b[0;34m\u001b[0m\u001b[0m\n\u001b[0m\u001b[1;32m    971\u001b[0m             \u001b[0;32mreturn\u001b[0m \u001b[0;32mNone\u001b[0m\u001b[0;34m\u001b[0m\u001b[0;34m\u001b[0m\u001b[0m\n\u001b[1;32m    972\u001b[0m         \u001b[0;32melse\u001b[0m\u001b[0;34m:\u001b[0m\u001b[0;34m\u001b[0m\u001b[0;34m\u001b[0m\u001b[0m\n",
            "\u001b[0;32m/usr/local/lib/python3.10/dist-packages/IPython/core/display.py\u001b[0m in \u001b[0;36m_repr_mimebundle_\u001b[0;34m(self, include, exclude)\u001b[0m\n\u001b[1;32m   1288\u001b[0m         \u001b[0;32mif\u001b[0m \u001b[0mself\u001b[0m\u001b[0;34m.\u001b[0m\u001b[0membed\u001b[0m\u001b[0;34m:\u001b[0m\u001b[0;34m\u001b[0m\u001b[0;34m\u001b[0m\u001b[0m\n\u001b[1;32m   1289\u001b[0m             \u001b[0mmimetype\u001b[0m \u001b[0;34m=\u001b[0m \u001b[0mself\u001b[0m\u001b[0;34m.\u001b[0m\u001b[0m_mimetype\u001b[0m\u001b[0;34m\u001b[0m\u001b[0;34m\u001b[0m\u001b[0m\n\u001b[0;32m-> 1290\u001b[0;31m             \u001b[0mdata\u001b[0m\u001b[0;34m,\u001b[0m \u001b[0mmetadata\u001b[0m \u001b[0;34m=\u001b[0m \u001b[0mself\u001b[0m\u001b[0;34m.\u001b[0m\u001b[0m_data_and_metadata\u001b[0m\u001b[0;34m(\u001b[0m\u001b[0malways_both\u001b[0m\u001b[0;34m=\u001b[0m\u001b[0;32mTrue\u001b[0m\u001b[0;34m)\u001b[0m\u001b[0;34m\u001b[0m\u001b[0;34m\u001b[0m\u001b[0m\n\u001b[0m\u001b[1;32m   1291\u001b[0m             \u001b[0;32mif\u001b[0m \u001b[0mmetadata\u001b[0m\u001b[0;34m:\u001b[0m\u001b[0;34m\u001b[0m\u001b[0;34m\u001b[0m\u001b[0m\n\u001b[1;32m   1292\u001b[0m                 \u001b[0mmetadata\u001b[0m \u001b[0;34m=\u001b[0m \u001b[0;34m{\u001b[0m\u001b[0mmimetype\u001b[0m\u001b[0;34m:\u001b[0m \u001b[0mmetadata\u001b[0m\u001b[0;34m}\u001b[0m\u001b[0;34m\u001b[0m\u001b[0;34m\u001b[0m\u001b[0m\n",
            "\u001b[0;32m/usr/local/lib/python3.10/dist-packages/IPython/core/display.py\u001b[0m in \u001b[0;36m_data_and_metadata\u001b[0;34m(self, always_both)\u001b[0m\n\u001b[1;32m   1300\u001b[0m             \u001b[0mb64_data\u001b[0m \u001b[0;34m=\u001b[0m \u001b[0mb2a_base64\u001b[0m\u001b[0;34m(\u001b[0m\u001b[0mself\u001b[0m\u001b[0;34m.\u001b[0m\u001b[0mdata\u001b[0m\u001b[0;34m)\u001b[0m\u001b[0;34m.\u001b[0m\u001b[0mdecode\u001b[0m\u001b[0;34m(\u001b[0m\u001b[0;34m'ascii'\u001b[0m\u001b[0;34m)\u001b[0m\u001b[0;34m\u001b[0m\u001b[0;34m\u001b[0m\u001b[0m\n\u001b[1;32m   1301\u001b[0m         \u001b[0;32mexcept\u001b[0m \u001b[0mTypeError\u001b[0m\u001b[0;34m:\u001b[0m\u001b[0;34m\u001b[0m\u001b[0;34m\u001b[0m\u001b[0m\n\u001b[0;32m-> 1302\u001b[0;31m             raise FileNotFoundError(\n\u001b[0m\u001b[1;32m   1303\u001b[0m                 \"No such file or directory: '%s'\" % (self.data))\n\u001b[1;32m   1304\u001b[0m         \u001b[0mmd\u001b[0m \u001b[0;34m=\u001b[0m \u001b[0;34m{\u001b[0m\u001b[0;34m}\u001b[0m\u001b[0;34m\u001b[0m\u001b[0;34m\u001b[0m\u001b[0m\n",
            "\u001b[0;31mFileNotFoundError\u001b[0m: No such file or directory: './assets/multi_turn.png'"
          ]
        },
        {
          "output_type": "error",
          "ename": "FileNotFoundError",
          "evalue": "No such file or directory: './assets/multi_turn.png'",
          "traceback": [
            "\u001b[0;31m---------------------------------------------------------------------------\u001b[0m",
            "\u001b[0;31mTypeError\u001b[0m                                 Traceback (most recent call last)",
            "\u001b[0;32m/usr/local/lib/python3.10/dist-packages/IPython/core/display.py\u001b[0m in \u001b[0;36m_data_and_metadata\u001b[0;34m(self, always_both)\u001b[0m\n\u001b[1;32m   1299\u001b[0m         \u001b[0;32mtry\u001b[0m\u001b[0;34m:\u001b[0m\u001b[0;34m\u001b[0m\u001b[0;34m\u001b[0m\u001b[0m\n\u001b[0;32m-> 1300\u001b[0;31m             \u001b[0mb64_data\u001b[0m \u001b[0;34m=\u001b[0m \u001b[0mb2a_base64\u001b[0m\u001b[0;34m(\u001b[0m\u001b[0mself\u001b[0m\u001b[0;34m.\u001b[0m\u001b[0mdata\u001b[0m\u001b[0;34m)\u001b[0m\u001b[0;34m.\u001b[0m\u001b[0mdecode\u001b[0m\u001b[0;34m(\u001b[0m\u001b[0;34m'ascii'\u001b[0m\u001b[0;34m)\u001b[0m\u001b[0;34m\u001b[0m\u001b[0;34m\u001b[0m\u001b[0m\n\u001b[0m\u001b[1;32m   1301\u001b[0m         \u001b[0;32mexcept\u001b[0m \u001b[0mTypeError\u001b[0m\u001b[0;34m:\u001b[0m\u001b[0;34m\u001b[0m\u001b[0;34m\u001b[0m\u001b[0m\n",
            "\u001b[0;31mTypeError\u001b[0m: a bytes-like object is required, not 'str'",
            "\nDuring handling of the above exception, another exception occurred:\n",
            "\u001b[0;31mFileNotFoundError\u001b[0m                         Traceback (most recent call last)",
            "\u001b[0;32m/usr/local/lib/python3.10/dist-packages/IPython/core/formatters.py\u001b[0m in \u001b[0;36m__call__\u001b[0;34m(self, obj)\u001b[0m\n\u001b[1;32m    343\u001b[0m             \u001b[0mmethod\u001b[0m \u001b[0;34m=\u001b[0m \u001b[0mget_real_method\u001b[0m\u001b[0;34m(\u001b[0m\u001b[0mobj\u001b[0m\u001b[0;34m,\u001b[0m \u001b[0mself\u001b[0m\u001b[0;34m.\u001b[0m\u001b[0mprint_method\u001b[0m\u001b[0;34m)\u001b[0m\u001b[0;34m\u001b[0m\u001b[0;34m\u001b[0m\u001b[0m\n\u001b[1;32m    344\u001b[0m             \u001b[0;32mif\u001b[0m \u001b[0mmethod\u001b[0m \u001b[0;32mis\u001b[0m \u001b[0;32mnot\u001b[0m \u001b[0;32mNone\u001b[0m\u001b[0;34m:\u001b[0m\u001b[0;34m\u001b[0m\u001b[0;34m\u001b[0m\u001b[0m\n\u001b[0;32m--> 345\u001b[0;31m                 \u001b[0;32mreturn\u001b[0m \u001b[0mmethod\u001b[0m\u001b[0;34m(\u001b[0m\u001b[0;34m)\u001b[0m\u001b[0;34m\u001b[0m\u001b[0;34m\u001b[0m\u001b[0m\n\u001b[0m\u001b[1;32m    346\u001b[0m             \u001b[0;32mreturn\u001b[0m \u001b[0;32mNone\u001b[0m\u001b[0;34m\u001b[0m\u001b[0;34m\u001b[0m\u001b[0m\n\u001b[1;32m    347\u001b[0m         \u001b[0;32melse\u001b[0m\u001b[0;34m:\u001b[0m\u001b[0;34m\u001b[0m\u001b[0;34m\u001b[0m\u001b[0m\n",
            "\u001b[0;32m/usr/local/lib/python3.10/dist-packages/IPython/core/display.py\u001b[0m in \u001b[0;36m_repr_png_\u001b[0;34m(self)\u001b[0m\n\u001b[1;32m   1318\u001b[0m     \u001b[0;32mdef\u001b[0m \u001b[0m_repr_png_\u001b[0m\u001b[0;34m(\u001b[0m\u001b[0mself\u001b[0m\u001b[0;34m)\u001b[0m\u001b[0;34m:\u001b[0m\u001b[0;34m\u001b[0m\u001b[0;34m\u001b[0m\u001b[0m\n\u001b[1;32m   1319\u001b[0m         \u001b[0;32mif\u001b[0m \u001b[0mself\u001b[0m\u001b[0;34m.\u001b[0m\u001b[0membed\u001b[0m \u001b[0;32mand\u001b[0m \u001b[0mself\u001b[0m\u001b[0;34m.\u001b[0m\u001b[0mformat\u001b[0m \u001b[0;34m==\u001b[0m \u001b[0mself\u001b[0m\u001b[0;34m.\u001b[0m\u001b[0m_FMT_PNG\u001b[0m\u001b[0;34m:\u001b[0m\u001b[0;34m\u001b[0m\u001b[0;34m\u001b[0m\u001b[0m\n\u001b[0;32m-> 1320\u001b[0;31m             \u001b[0;32mreturn\u001b[0m \u001b[0mself\u001b[0m\u001b[0;34m.\u001b[0m\u001b[0m_data_and_metadata\u001b[0m\u001b[0;34m(\u001b[0m\u001b[0;34m)\u001b[0m\u001b[0;34m\u001b[0m\u001b[0;34m\u001b[0m\u001b[0m\n\u001b[0m\u001b[1;32m   1321\u001b[0m \u001b[0;34m\u001b[0m\u001b[0m\n\u001b[1;32m   1322\u001b[0m     \u001b[0;32mdef\u001b[0m \u001b[0m_repr_jpeg_\u001b[0m\u001b[0;34m(\u001b[0m\u001b[0mself\u001b[0m\u001b[0;34m)\u001b[0m\u001b[0;34m:\u001b[0m\u001b[0;34m\u001b[0m\u001b[0;34m\u001b[0m\u001b[0m\n",
            "\u001b[0;32m/usr/local/lib/python3.10/dist-packages/IPython/core/display.py\u001b[0m in \u001b[0;36m_data_and_metadata\u001b[0;34m(self, always_both)\u001b[0m\n\u001b[1;32m   1300\u001b[0m             \u001b[0mb64_data\u001b[0m \u001b[0;34m=\u001b[0m \u001b[0mb2a_base64\u001b[0m\u001b[0;34m(\u001b[0m\u001b[0mself\u001b[0m\u001b[0;34m.\u001b[0m\u001b[0mdata\u001b[0m\u001b[0;34m)\u001b[0m\u001b[0;34m.\u001b[0m\u001b[0mdecode\u001b[0m\u001b[0;34m(\u001b[0m\u001b[0;34m'ascii'\u001b[0m\u001b[0;34m)\u001b[0m\u001b[0;34m\u001b[0m\u001b[0;34m\u001b[0m\u001b[0m\n\u001b[1;32m   1301\u001b[0m         \u001b[0;32mexcept\u001b[0m \u001b[0mTypeError\u001b[0m\u001b[0;34m:\u001b[0m\u001b[0;34m\u001b[0m\u001b[0;34m\u001b[0m\u001b[0m\n\u001b[0;32m-> 1302\u001b[0;31m             raise FileNotFoundError(\n\u001b[0m\u001b[1;32m   1303\u001b[0m                 \"No such file or directory: '%s'\" % (self.data))\n\u001b[1;32m   1304\u001b[0m         \u001b[0mmd\u001b[0m \u001b[0;34m=\u001b[0m \u001b[0;34m{\u001b[0m\u001b[0;34m}\u001b[0m\u001b[0;34m\u001b[0m\u001b[0;34m\u001b[0m\u001b[0m\n",
            "\u001b[0;31mFileNotFoundError\u001b[0m: No such file or directory: './assets/multi_turn.png'"
          ]
        },
        {
          "output_type": "display_data",
          "data": {
            "text/plain": [
              "<IPython.core.display.Image object>"
            ]
          },
          "metadata": {}
        }
      ],
      "source": [
        "image_path = './assets/multi_turn.png'\n",
        "display(Image(image_path, width=600))"
      ]
    },
    {
      "cell_type": "markdown",
      "metadata": {
        "id": "nEAyQcBJTku_"
      },
      "source": [
        "### Note: you donit need `end tag (</s>)` for the last prompt."
      ]
    },
    {
      "cell_type": "code",
      "execution_count": null,
      "metadata": {
        "colab": {
          "base_uri": "https://localhost:8080/"
        },
        "id": "2qjMQfTtTku_",
        "outputId": "c58bc5a2-5e74-4f7c-ca03-25fad7052505"
      },
      "outputs": [
        {
          "output_type": "stream",
          "name": "stdout",
          "text": [
            "\n",
            "<s>[INST] \n",
            "What are fun activities I can do this weekend?\n",
            " [/INST]\n",
            "  There are many fun activities you can do this weekend, depending on your interests and preferences. Here are some ideas:\n",
            "\n",
            "1. Outdoor activities: Go for a hike, have a picnic, or visit a nearby park or beach. You can also try camping, kayaking, or biking.\n",
            "2. Cultural events: Attend a concert, play, or festival. Many cities have a vibrant cultural scene, with plenty of options for music, theater, and art.\n",
            "3. Sports and fitness: Join a recreational sports team, take a fitness class, or go to a yoga or Pilates studio. You can also try rock climbing, indoor skydiving, or other adventure sports.\n",
            "4. Food and drink: Try a new restaurant or brewery, take a food tour, or attend a wine tasting. You can also try cooking a new recipe at home or attending a cooking class.\n",
            "5. Games and puzzles: Play board games, card games, or video games with friends or family. You can also try solving a puzzle or playing a game of escape room.\n",
            "6. Creative activities: Take an art class, write a story or poem, or try your hand at photography. You can also make crafts, such as knitting or woodworking.\n",
            "7. Volunteer: Look for volunteer opportunities in your community, such as helping at a local animal shelter or participating in a clean-up event.\n",
            "8. Learn something new: Take an online course, attend a workshop or seminar, or watch educational videos on a topic that interests you.\n",
            "9. Relax and unwind: Take a relaxing bath, get a massage, or practice meditation or yoga. You can also try reading a book, listening to music, or taking a nap.\n",
            "10. Spend time with loved ones: Invite friends or family over for a gathering, go on a fun outing together, or simply spend time together at home.\n",
            "\n",
            "Remember to choose activities that are fun and enjoyable for you, and that allow you to relax and recharge.\n",
            "</s>\n",
            "<s>[INST] \n",
            "Which of these would be good for my health?\n",
            " [/INST]\n",
            "\n"
          ]
        }
      ],
      "source": [
        "chat_prompt = f\"\"\"\n",
        "<s>[INST] {prompt_1} [/INST]\n",
        "{response_1}\n",
        "</s>\n",
        "<s>[INST] {prompt_2} [/INST]\n",
        "\"\"\"\n",
        "print(chat_prompt)"
      ]
    },
    {
      "cell_type": "markdown",
      "metadata": {
        "id": "XnAxWREPTku_"
      },
      "source": [
        "### Note: pay attention to add_inst (add instruction) argument below"
      ]
    },
    {
      "cell_type": "code",
      "execution_count": null,
      "metadata": {
        "colab": {
          "base_uri": "https://localhost:8080/"
        },
        "id": "tNzt7OueTkvF",
        "outputId": "e4763297-d5e3-429d-8112-f0e16d267dca"
      },
      "outputs": [
        {
          "output_type": "stream",
          "name": "stdout",
          "text": [
            "Prompt:\n",
            "\n",
            "<s>[INST] \n",
            "What are fun activities I can do this weekend?\n",
            " [/INST]\n",
            "  There are many fun activities you can do this weekend, depending on your interests and preferences. Here are some ideas:\n",
            "\n",
            "1. Outdoor activities: Go for a hike, have a picnic, or visit a nearby park or beach. You can also try camping, kayaking, or biking.\n",
            "2. Cultural events: Attend a concert, play, or festival. Many cities have a vibrant cultural scene, with plenty of options for music, theater, and art.\n",
            "3. Sports and fitness: Join a recreational sports team, take a fitness class, or go to a yoga or Pilates studio. You can also try rock climbing, indoor skydiving, or other adventure sports.\n",
            "4. Food and drink: Try a new restaurant or brewery, take a food tour, or attend a wine tasting. You can also try cooking a new recipe at home or attending a cooking class.\n",
            "5. Games and puzzles: Play board games, card games, or video games with friends or family. You can also try solving a puzzle or playing a game of escape room.\n",
            "6. Creative activities: Take an art class, write a story or poem, or try your hand at photography. You can also make crafts, such as knitting or woodworking.\n",
            "7. Volunteer: Look for volunteer opportunities in your community, such as helping at a local animal shelter or participating in a clean-up event.\n",
            "8. Learn something new: Take an online course, attend a workshop or seminar, or watch educational videos on a topic that interests you.\n",
            "9. Relax and unwind: Take a relaxing bath, get a massage, or practice meditation or yoga. You can also try reading a book, listening to music, or taking a nap.\n",
            "10. Spend time with loved ones: Invite friends or family over for a gathering, go on a fun outing together, or simply spend time together at home.\n",
            "\n",
            "Remember to choose activities that are fun and enjoyable for you, and that allow you to relax and recharge.\n",
            "</s>\n",
            "<s>[INST] \n",
            "Which of these would be good for my health?\n",
            " [/INST]\n",
            "\n",
            "\n",
            "model: meta-llama/Llama-2-7b-chat-hf\n"
          ]
        }
      ],
      "source": [
        "response_2 = llama(chat_prompt,\n",
        "                 add_inst=False,\n",
        "                 verbose=True)"
      ]
    },
    {
      "cell_type": "code",
      "execution_count": null,
      "metadata": {
        "colab": {
          "base_uri": "https://localhost:8080/"
        },
        "id": "h68xn5bnTkvF",
        "outputId": "b7fb3274-fee5-43c7-80c3-dd97f78bd5e1"
      },
      "outputs": [
        {
          "output_type": "stream",
          "name": "stdout",
          "text": [
            "  It's great that you're thinking about your health! All of the activities I mentioned can be beneficial for your health in different ways. Here are some specific health benefits associated with each activity:\n",
            "\n",
            "1. Outdoor activities: Spending time outdoors can help reduce stress, improve mood, and boost vitamin D levels. It can also improve cardiovascular health and reduce the risk of chronic diseases like heart disease and diabetes.\n",
            "2. Cultural events: Attending cultural events can help reduce stress, improve cognitive function, and boost creativity. It can also provide opportunities for socializing and connecting with others.\n",
            "3. Sports and fitness: Engaging in sports and fitness activities can improve cardiovascular health, increase strength and flexibility, and reduce the risk of chronic diseases. It can also help with weight management and improve mental health.\n",
            "4. Food and drink: Trying new foods and drinks can provide essential nutrients and help you stay hydrated. It can also be a fun and social way to connect with others and explore new cultures.\n",
            "5. Games and puzzles: Playing games and puzzles can help improve cognitive function, reduce stress, and boost creativity. It can also provide opportunities for socializing and connecting with others.\n",
            "6. Volunteer work: Volunteering can help improve mental health, reduce stress, and provide a sense of purpose and fulfillment. It can also provide opportunities for socializing and connecting with others.\n",
            "7. Learning something new: Learning something new can help improve cognitive function, reduce stress, and boost creativity. It can also provide a sense of accomplishment and personal growth.\n",
            "8. Relaxation and self-care: Taking time to relax and practice self-care can help reduce stress, improve mood, and boost overall well-being. It can also help improve sleep quality and reduce the risk of chronic diseases.\n",
            "\n",
            "Ultimately, the best activity for your health will depend on your individual interests and needs. It's important to find activities that you enjoy and that make you feel good, both physically and mentally.\n"
          ]
        }
      ],
      "source": [
        "print(response_2)"
      ]
    },
    {
      "cell_type": "markdown",
      "metadata": {
        "id": "X1rnXleQTkvF"
      },
      "source": [
        "### Helper function to handle multi-turn prompting\n",
        "\n",
        "### **Note:** You don’t need to understand every part of the helper function. In the next section, you’ll see how to use it in your code."
      ]
    },
    {
      "cell_type": "code",
      "execution_count": null,
      "metadata": {
        "id": "v-fpsRdygQGr"
      },
      "outputs": [],
      "source": [
        "def llama_chat(prompts,\n",
        "               responses,\n",
        "               model=\"meta-llama/Llama-2-7b-chat-hf\",\n",
        "               temperature=0.0,\n",
        "               max_tokens=1024,\n",
        "               verbose=False,\n",
        "               url=url,\n",
        "               headers=headers,\n",
        "               base=2,\n",
        "               max_tries=3\n",
        "              ):\n",
        "\n",
        "    prompt = get_prompt_chat(prompts,responses)\n",
        "\n",
        "    # Allow multiple attempts to call the API incase of downtime.\n",
        "    # Return provided response to user after 3 failed attempts.\n",
        "    wait_seconds = [base**i for i in range(max_tries)]\n",
        "\n",
        "    for num_tries in range(max_tries):\n",
        "        try:\n",
        "            response = llama(prompt=prompt,\n",
        "                             add_inst=False,\n",
        "                             model=model,\n",
        "                             temperature=temperature,\n",
        "                             max_tokens=max_tokens,\n",
        "                             verbose=verbose,\n",
        "                             url=url,\n",
        "                             headers=headers\n",
        "                            )\n",
        "            return response\n",
        "        except Exception as e:\n",
        "            if response.status_code != 500:\n",
        "                return response.json()\n",
        "\n",
        "            print(f\"error message: {e}\")\n",
        "            print(f\"response object: {response}\")\n",
        "            print(f\"num_tries {num_tries}\")\n",
        "            print(f\"Waiting {wait_seconds[num_tries]} seconds before automatically trying again.\")\n",
        "            time.sleep(wait_seconds[num_tries])\n",
        "\n",
        "    print(f\"Tried {max_tries} times to make API call to get a valid response object\")\n",
        "    print(\"Returning provided response\")\n",
        "    return response\n",
        "\n",
        "\n",
        "def get_prompt_chat(prompts, responses):\n",
        "  prompt_chat = f\"<s>[INST] {prompts[0]} [/INST]\"\n",
        "  for n, response in enumerate(responses):\n",
        "    prompt = prompts[n + 1]\n",
        "    prompt_chat += f\"\\n{response}\\n </s><s>[INST] \\n{ prompt }\\n [/INST]\"\n",
        "\n",
        "  return prompt_chat"
      ]
    },
    {
      "cell_type": "markdown",
      "metadata": {
        "id": "zC0gE4EETkvG"
      },
      "source": [
        "### How to use the helper function"
      ]
    },
    {
      "cell_type": "code",
      "execution_count": null,
      "metadata": {
        "id": "laPRgntYTkvG"
      },
      "outputs": [],
      "source": [
        "prompt_1 = \"\"\"\n",
        "    What are fun activities I can do this weekend?\n",
        "\"\"\"\n",
        "\n",
        "response_1 = llama(prompt_1)"
      ]
    },
    {
      "cell_type": "code",
      "execution_count": null,
      "metadata": {
        "id": "PqZGqej2TkvG"
      },
      "outputs": [],
      "source": [
        "prompt_2 = \"\"\"\n",
        "Which of these would be good for my health?\n",
        "\"\"\""
      ]
    },
    {
      "cell_type": "code",
      "execution_count": null,
      "metadata": {
        "id": "Owh02eUjTkvG"
      },
      "outputs": [],
      "source": [
        "prompts = [prompt_1,prompt_2]\n",
        "responses = [response_1]"
      ]
    },
    {
      "cell_type": "code",
      "execution_count": null,
      "metadata": {
        "colab": {
          "base_uri": "https://localhost:8080/"
        },
        "id": "Y3g-pXDOTkvG",
        "outputId": "885857a2-0077-4438-e641-218effb19e3b"
      },
      "outputs": [
        {
          "output_type": "stream",
          "name": "stdout",
          "text": [
            "Prompt:\n",
            "<s>[INST] \n",
            "    What are fun activities I can do this weekend?\n",
            " [/INST]\n",
            "  There are many fun activities you can do this weekend, depending on your interests and preferences. Here are some ideas:\n",
            "\n",
            "1. Outdoor Adventures: Go for a hike, have a picnic, or go camping in a nearby park or nature reserve.\n",
            "2. Cultural Events: Attend a concert, play, or festival in your area. Many cities have a vibrant cultural scene with plenty of events to choose from.\n",
            "3. Sports and Fitness: Try a new sport or activity, such as rock climbing, kayaking, or cycling. Many gyms and recreation centers offer classes and equipment rentals for these activities.\n",
            "4. Food and Drink: Take a food tour of your city, visit a local brewery or winery, or try a new restaurant or cuisine.\n",
            "5. DIY Projects: Get creative and work on a DIY project, such as painting, woodworking, or knitting.\n",
            "6. Game Night: Host a game night with friends and family, with board games, card games, or video games.\n",
            "7. Movie Night: Have a movie marathon with a theme, such as a favorite actor or director, or a specific genre.\n",
            "8. Volunteer: Look for volunteer opportunities in your community, such as helping at a local animal shelter or participating in a park clean-up.\n",
            "9. Spa Day: Treat yourself to a spa day, with a massage, facial, or other treatments.\n",
            "10. Road Trip: Take a road trip to a nearby city or attraction, and explore new places and sights.\n",
            "11. Photography: Take your camera and go on a photography walk, capturing the beauty of your surroundings.\n",
            "12. Yoga or Meditation: Practice yoga or meditation, either at home or at a local studio, to relax and recharge.\n",
            "13. Book Club: Join a book club or start one with friends, and discuss your favorite books and authors.\n",
            "14. Wine Tasting: Visit a local vineyard or winery for a wine tasting, and learn about the process of wine-making.\n",
            "15. Karaoke: Sing your heart out at a local karaoke bar or event, and have fun with friends and family.\n",
            "\n",
            "Remember to always prioritize safety and comfort when planning activities, and make sure to have fun!\n",
            " </s><s>[INST] \n",
            "\n",
            "Which of these would be good for my health?\n",
            "\n",
            " [/INST]\n",
            "\n",
            "model: meta-llama/Llama-2-7b-chat-hf\n"
          ]
        }
      ],
      "source": [
        "prompts = [prompt_1,prompt_2]\n",
        "responses = [response_1]\n",
        "\n",
        "# Pass prompts and responses to llama_chat function\n",
        "response_2 = llama_chat(prompts,responses,verbose=True)"
      ]
    },
    {
      "cell_type": "code",
      "execution_count": null,
      "metadata": {
        "colab": {
          "base_uri": "https://localhost:8080/"
        },
        "id": "XRyRAi7dTkvG",
        "outputId": "6e76fc72-3c29-4c05-a4de-06c187b2885f"
      },
      "outputs": [
        {
          "output_type": "stream",
          "name": "stdout",
          "text": [
            "  It's great that you're thinking about your health! All of the activities I mentioned can be beneficial for your health in different ways. Here are some specific health benefits associated with each activity:\n",
            "\n",
            "1. Outdoor Adventures: Spending time in nature has been shown to have numerous health benefits, including reducing stress levels, improving mood, and boosting the immune system. Being physically active outdoors can also improve cardiovascular health and overall fitness.\n",
            "2. Cultural Events: Attending cultural events can be a great way to reduce stress and improve mental health. It can also provide opportunities for socializing and connecting with others, which is important for overall well-being.\n",
            "3. Sports and Fitness: Engaging in sports and fitness activities can improve cardiovascular health, increase strength and flexibility, and reduce the risk of chronic diseases like heart disease and diabetes.\n",
            "4. Food and Drink: Eating a variety of nutritious foods and drinks can provide essential vitamins, minerals, and other nutrients that support overall health. Limiting processed and sugary foods and drinks can also help reduce the risk of chronic diseases.\n",
            "5. DIY Projects: Engaging in DIY projects can provide opportunities for creative expression and problem-solving, which can be beneficial for mental health. It can also provide a sense of accomplishment and self-esteem.\n",
            "6. Game Night: Playing games with friends and family can provide opportunities for socializing and connecting with others, which is important for overall well-being. It can also reduce stress and improve mood.\n",
            "7. Movie Night: Watching movies can be a relaxing and enjoyable activity that can reduce stress and improve mood. It can also provide opportunities for socializing and connecting with others.\n",
            "8. Volunteer: Volunteering can provide opportunities for socializing and connecting with others, which is important for overall well-being. It can also provide a sense of purpose and fulfillment.\n",
            "9. Spa Day: Treating yourself to a spa day can provide opportunities for relaxation and stress relief. It can also improve overall well-being and reduce stress levels.\n",
            "10. Road Trip: Taking a road trip can provide opportunities for adventure and exploration, which can be beneficial for mental health. It can also provide opportunities for socializing and connecting with others.\n",
            "11. Photography: Engaging in photography can provide opportunities for creative expression and problem-solving, which can be beneficial for mental health. It can also provide a sense of accomplishment and self-esteem.\n",
            "12. Yoga or Meditation: Practicing yoga or meditation can provide opportunities for relaxation and stress relief. It can also improve overall well-being and reduce stress levels.\n",
            "13. Book Club: Joining a book club can provide opportunities for socializing and connecting with others, which is important for overall well-being. It can also provide opportunities for mental stimulation and personal growth.\n",
            "14. Wine Tasting: Participating in wine tasting can provide opportunities for socializing and connecting with others, which is important for overall well-being. It can also provide opportunities for cultural experiences and learning.\n",
            "15. Karaoke: Singing and performing with others can provide opportunities for socializing and connecting with others, which is important for overall well-being. It can also reduce stress and improve mood.\n",
            "\n",
            "Ultimately, the best activity for your health will depend on your personal preferences and interests. It's important to find activities that you enjoy and that provide opportunities for socializing, relaxation, and personal growth.\n"
          ]
        }
      ],
      "source": [
        "print(response_2)"
      ]
    },
    {
      "cell_type": "markdown",
      "metadata": {
        "id": "EZF11qERTkvG"
      },
      "source": [
        "### Excercise 3: Multi-turn prompting\n",
        "\n",
        "### Ask this follow-up question: \"Which of these activites would be fun with friends?\""
      ]
    },
    {
      "cell_type": "code",
      "execution_count": null,
      "metadata": {
        "id": "dB56VJpPTkvG",
        "outputId": "7416b9e3-0105-4a2d-876b-2efba8792b14",
        "colab": {
          "base_uri": "https://localhost:8080/"
        }
      },
      "outputs": [
        {
          "output_type": "stream",
          "name": "stdout",
          "text": [
            "  Oh, wow, there are so many fun activities you can do with friends while learning to code! 🤔 Here are a few ideas:\n",
            "\n",
            "1. Code together: Set up a collaborative coding environment where you and your friends can work on the same project together. You can take turns solving problems, sharing knowledge, and learning from each other. It's a great way to bond and have fun while learning. 💻\n",
            "2. Create a coding challenge: Set up a friendly coding competition where you and your friends can solve coding challenges together. You can use platforms like HackerRank, CodeWars, or CodeForces to find challenges that suit your skill level. It's a great way to test your skills, learn from each other, and have fun. 🏆\n",
            "3. Build a project together: Choose a project idea that you and your friends are interested in, and work on it together. You can take turns contributing to the project, sharing knowledge, and learning from each other. It's a great way to apply what you've learned, work together, and have fun. 📈\n",
            "4. Learn a new language together: Choose a new programming language to learn together, and work on projects that interest you. You can take turns teaching each other, sharing resources, and learning from each other. It's a great way to deepen your understanding of programming and have fun. 🌐\n",
            "\n",
            "Remember, the most important thing is to have fun and enjoy the process of learning together! 😊 So choose an activity that you and your friends will enjoy, and have a blast!\n"
          ]
        }
      ],
      "source": [
        "prompt_3 = \"Which of these activites would be fun with friends?\"\n",
        "\n",
        "#your code here\n",
        "role = \"\"\"\n",
        "Your role is a friendly coding mentor \\\n",
        "who gives advice to people learning to code.\\\n",
        "You provide clear, beginner-friendly explanations.\n",
        "You respond in a warm, encouraging tone.\n",
        "\"\"\"\n",
        "\n",
        "prompt_3 = \"Which of these activities would be fun with friends?\"\n",
        "\n",
        "full_prompt = f\"\"\"\n",
        "{role}\n",
        "{prompt_3}\n",
        "\"\"\"\n",
        "\n",
        "response = llama(full_prompt)\n",
        "print(response)\n"
      ]
    },
    {
      "cell_type": "markdown",
      "metadata": {
        "id": "gAqvSPYnTkvG"
      },
      "source": [
        "### OrderBot\n",
        "\n",
        "#### We can `automate the collection of user prompts and model responses` to build a  OrderBot.\n",
        "\n",
        "#### The OrderBot will take orders at a pizza restaurant."
      ]
    },
    {
      "cell_type": "code",
      "execution_count": null,
      "metadata": {
        "id": "SgVECoD8WH0U"
      },
      "outputs": [],
      "source": [
        "# Define the bot's role and menu\n",
        "role = \"\"\"\n",
        "You are OrderBot, an automated service to collect orders for a pizza restaurant. \\\n",
        "You first greet the customer, then start collecting the order, \\\n",
        "and then asks if it's a pickup or delivery. \\\n",
        "You wait to collect the entire order, then summarize it and check for a final \\\n",
        "time if the customer wants to add anything else. \\\n",
        "If it's a delivery, you ask for an address. \\\n",
        "Finally you collect the payment.\\\n",
        "Make sure to clarify all options, extras and sizes to uniquely \\\n",
        "identify the item from the menu.\\\n",
        "You respond in a short, very conversational friendly style. \\\n",
        "The menu includes \\\n",
        "pepperoni pizza  12.95, 10.00, 7.00 \\\n",
        "cheese pizza   10.95, 9.25, 6.50 \\\n",
        "eggplant pizza   11.95, 9.75, 6.75 \\\n",
        "fries 4.50, 3.50 \\\n",
        "greek salad 7.25 \\\n",
        "Toppings: \\\n",
        "extra cheese 2.00, \\\n",
        "mushrooms 1.50 \\\n",
        "sausage 3.00 \\\n",
        "canadian bacon 3.50 \\\n",
        "AI sauce 1.50 \\\n",
        "peppers 1.00 \\\n",
        "Drinks: \\\n",
        "coke 3.00, 2.00, 1.00 \\\n",
        "sprite 3.00, 2.00, 1.00 \\\n",
        "bottled water 5.00 \\\n",
        "\"\"\" # accumulate messages"
      ]
    },
    {
      "cell_type": "markdown",
      "metadata": {
        "id": "cqa-1yg7WH0U"
      },
      "source": [
        "## Excercise 4: Orderbot"
      ]
    },
    {
      "cell_type": "code",
      "execution_count": null,
      "metadata": {
        "id": "FbvuUb_yWH0U",
        "outputId": "f0f600ee-20e0-497e-ec3d-118e99c101d2",
        "colab": {
          "base_uri": "https://localhost:8080/"
        }
      },
      "outputs": [
        {
          "output_type": "stream",
          "name": "stdout",
          "text": [
            "\n",
            "Chatbot:   Hey there! Welcome to Pizza Palace! 🍕 I'm OrderBot, your personal assistant for placing your order. 🤖 What can I get for you today? 🤔\n",
            "\n",
            "We have a variety of delicious pizzas on our menu, including our classic pepperoni pizza for $12.95, cheese pizza for $10.95, and eggplant pizza for $11.95. 🍕👌\n",
            "\n",
            "Would you like to add any toppings? We have extra cheese for $2.00, mushrooms for $1.50, sausage for $3.00, and Canadian bacon for $3.50. 🥘🌭\n",
            "\n",
            "And don't forget to stay hydrated! We have coke for $3.00, $2.00, and $1.00, as well as sprite for $3.00, $2.00, and $1.00, and bottled water for $5.00. 💧\n",
            "\n",
            "Oh, and one more thing! If you'd like to have your order delivered, please let me know your address. 📲\n",
            "\n",
            "So, what's your order looking like? 🤔\n",
            "\n",
            "\n",
            "Chatbot: Ellipsis\n",
            "\n"
          ]
        }
      ],
      "source": [
        "prompts = []\n",
        "responses = []\n",
        "\n",
        "prompts.append(role)\n",
        "response = llama_chat(prompts, responses)\n",
        "responses.append(response)\n",
        "print(f\"\\nChatbot: {response}\\n\")\n",
        "\n",
        "while True:\n",
        "\n",
        "    # your code here\n",
        "    prompt = ...\n",
        "    prompts.append(prompt)\n",
        "    response = ...\n",
        "    responses.append(response)\n",
        "    print(f\"\\nChatbot: {response}\\n\")\n",
        "    if prompt == \"exit\" or \"done\" or \"quit\" or \"bye\":\n",
        "        break\n",
        "\n",
        "    # get the input from the user with input() function\n",
        "    # change prompts and responses accordingly\n",
        "    # terminate the loop if the user types 'done', 'exit', 'quit', or bye\n",
        "    ..."
      ]
    },
    {
      "cell_type": "markdown",
      "metadata": {
        "id": "0Z_SMMmmWH0U"
      },
      "source": [
        "### Printing the order"
      ]
    },
    {
      "cell_type": "code",
      "execution_count": null,
      "metadata": {
        "colab": {
          "base_uri": "https://localhost:8080/"
        },
        "id": "S7P-7fJsTkvH",
        "outputId": "21c85e9a-767b-46e6-b790-b52ee0678e36"
      },
      "outputs": [
        {
          "output_type": "stream",
          "name": "stdout",
          "text": [
            "  Sure! Here's a JSON summary for a food order:\n",
            "```json\n",
            "{\n",
            "  \"pizza\": {\n",
            "    \"size\": \"medium\",\n",
            "    \"price\": 12.95\n",
            "  },\n",
            "  \"toppings\": [\n",
            "    {\n",
            "      \"type\": \"extra cheese\",\n",
            "      \"price\": 2.00\n",
            "    },\n",
            "    {\n",
            "      \"type\": \"mushrooms\",\n",
            "      \"price\": 1.50\n",
            "    },\n",
            "    {\n",
            "      \"type\": \"sausage\",\n",
            "      \"price\": 3.00\n",
            "    }\n",
            "  ],\n",
            "  \"drinks\": {\n",
            "    \"size\": \"large\",\n",
            "    \"price\": 3.00\n",
            "  },\n",
            "  \"sides\": [\n",
            "    {\n",
            "      \"size\": \"small\",\n",
            "      \"price\": 4.50\n",
            "    }\n",
            "  ],\n",
            "  \"total_price\": 21.95\n",
            "}\n",
            "```\n",
            "Here's a breakdown of the fields in the JSON summary:\n",
            "\n",
            "* `pizza`: This field contains information about the pizza, including the size. In this case, the size is \"medium\".\n",
            "* `toppings`: This field is a list of toppings added to the pizza. Each item in the list contains the type of topping and its price.\n",
            "* `drinks`: This field contains information about the drinks ordered, including the size and price.\n",
            "* `sides`: This field is a list of sides ordered, including the size and price.\n",
            "* `total_price`: This field contains the total price of the order, calculated by adding up the prices of all the items.\n",
            "\n",
            "I hope this helps! Let me know if you have any questions.\n"
          ]
        }
      ],
      "source": [
        "role = 'create a json summary of the food order. Itemize the price for each item\\\n",
        " The fields should be 1) pizza, include size 2) list of toppings 3) list of drinks, include size\\\n",
        "          4) list of sides include size  5)total price '\n",
        "\n",
        "messages = prompts.copy()\n",
        "messages.append(role)\n",
        "\n",
        "response = llama_chat(messages, responses)\n",
        "print(response)"
      ]
    },
    {
      "cell_type": "markdown",
      "metadata": {
        "id": "APImWn5LTkvH"
      },
      "source": [
        "## Excercise 5: Improving the OrderBot\n",
        "\n",
        "### Try to improve the performance of your chat by\n",
        "\n",
        "### 1. modifying the prompt\n",
        "### 2. using different models (larger ones)"
      ]
    },
    {
      "cell_type": "code",
      "execution_count": null,
      "metadata": {
        "id": "pYUYSe0eTkvH"
      },
      "outputs": [],
      "source": [
        "role = \"\"\"\n",
        "You are OrderBot, an AI assistant for a pizza restaurant. Follow these steps:\n",
        "\n",
        "1. Greet the customer warmly.\n",
        "2. Present the menu clearly, including sizes and prices.\n",
        "3. Take the order, asking for specifics (size, toppings, etc.) one item at a time.\n",
        "4. Confirm each item before moving to the next.\n",
        "5. Ask if it's for pickup or delivery.\n",
        "6. If delivery, request the address.\n",
        "7. Summarize the entire order and total cost.\n",
        "8. Ask if they want to add anything else.\n",
        "9. Collect payment information.\n",
        "10. Thank the customer and provide an estimated ready/delivery time.\n",
        "\n",
        "Respond concisely and conversationally. Be friendly and helpful.\n",
        "\n",
        "Menu:\n",
        "Pizzas (Large/Medium/Small):\n",
        "- Pepperoni: $12.95/$10.00/$7.00\n",
        "- Cheese: $10.95/$9.25/$6.50\n",
        "- Eggplant: $11.95/$9.75/$6.75\n",
        "\n",
        "Sides:\n",
        "- Fries: $4.50 (Large), $3.50 (Small)\n",
        "- Greek Salad: $7.25\n",
        "\n",
        "Toppings:\n",
        "- Extra Cheese: $2.00\n",
        "- Mushrooms: $1.50\n",
        "- Sausage: $3.00\n",
        "- Canadian Bacon: $3.50\n",
        "- AI Sauce: $1.50\n",
        "- Peppers: $1.00\n",
        "\n",
        "Drinks (Large/Medium/Small):\n",
        "- Coke: $3.00/$2.00/$1.00\n",
        "- Sprite: $3.00/$2.00/$1.00\n",
        "- Bottled Water: $5.00\n",
        "\"\"\"\n"
      ]
    },
    {
      "cell_type": "code",
      "source": [
        "import openai\n",
        "def llama_chat (prompts, responses):\n",
        "    messages = [{\"role\": \"system\", \"content\": prompts[0]}]\n",
        "    for prompt, response in zip(prompts[1:], responses):\n",
        "        messages.append({\"role\": \"user\", \"content\": prompt})\n",
        "        messages.append({\"role\": \"assistant\", \"content\": response})\n",
        "\n",
        "    response = openai.ChatCompletion.create(\n",
        "      model=\"llama_chat\",\n",
        "      messages=messages\n",
        "    )\n",
        "    return response.choices[0].message['content']\n"
      ],
      "metadata": {
        "id": "jVKzS5u_Qg8O"
      },
      "execution_count": null,
      "outputs": []
    }
  ],
  "metadata": {
    "accelerator": "GPU",
    "colab": {
      "gpuType": "T4",
      "provenance": []
    },
    "kernelspec": {
      "display_name": "Python 3",
      "name": "python3"
    },
    "language_info": {
      "codemirror_mode": {
        "name": "ipython",
        "version": 3
      },
      "file_extension": ".py",
      "mimetype": "text/x-python",
      "name": "python",
      "nbconvert_exporter": "python",
      "pygments_lexer": "ipython3",
      "version": "3.13.1"
    }
  },
  "nbformat": 4,
  "nbformat_minor": 0
}